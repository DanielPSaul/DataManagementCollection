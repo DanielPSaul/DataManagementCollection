{
 "cells": [
  {
   "cell_type": "markdown",
   "metadata": {},
   "source": [
    "# Instructions\n",
    "\n",
    "Your submission will be tested with the code tester. It is important to follow these instructions to ensure your work tests properly.\n",
    "\n",
    "- Do not change the content of the cells under __SETUP__ and __TESTS__\n",
    "- Work only in the __YOUR WORK__ area\n",
    "- Rename the notebook with your group at the end (subsitute XX with your group number).\n",
    "- Assign the results of each numbered question to the appropriate test variable. For example, the answer of `1.` should be assigned to `test_1`\n",
    "- Rounding: use the supplied function `hround` to round decimal numbers when instructed. It's important to use this function because there are [multiple ways to round numbers in Python](https://www.knowledgehut.com/blog/programming/python-rounding-numbers) and they may not result in the same value that the tester is testing against.\n",
    "- Ensure your run the cells under __SETUP__ before you run your work\n",
    "- Before you submit your work, ensure you clean up your notebook. Your notebook has to run without an error in order to be tested. The easiest way to ensure is to `Kernel->Restart & Run All`\n",
    "- Answers are provided in along with this notebook in eLC (look a picture named `solution_key`) for your convenience\n",
    "- You will need to write a program to calculate the answers. Setting the answers to be their correct values without solving them is considered *hardcoding* and will result in zero grade for the assignment as well as a potential academic honesty violation.\n",
    "- You can also test your submission using [the online code tester](https://notebook-tester.safadi-puzzler.com/)\n"
   ]
  },
  {
   "cell_type": "markdown",
   "metadata": {},
   "source": [
    "# SETUP"
   ]
  },
  {
   "cell_type": "code",
   "execution_count": 1,
   "metadata": {},
   "outputs": [],
   "source": [
    "import pandas as pd\n",
    "import numpy as np"
   ]
  },
  {
   "cell_type": "code",
   "execution_count": 2,
   "metadata": {
    "tags": [
     "parameters"
    ]
   },
   "outputs": [],
   "source": [
    "# DO NOT EDIT OR CHANGE THE CONTENT OF THIS CELL\n",
    "scenario = 0"
   ]
  },
  {
   "cell_type": "code",
   "execution_count": 3,
   "metadata": {},
   "outputs": [],
   "source": [
    "def hround(number):\n",
    "    return round(number, 2 - scenario)"
   ]
  },
  {
   "cell_type": "code",
   "execution_count": 4,
   "metadata": {},
   "outputs": [],
   "source": [
    "test_1=test_2=test_3=test_4=test_5=test_6=test_7=test_8=test_9=test_10=0.0\n",
    "test_11=test_12=test_13=test_14=test_15=test_16=test_17=test_18=test_19=test_20=0.0"
   ]
  },
  {
   "cell_type": "markdown",
   "metadata": {},
   "source": [
    "In this homework, we have data from an accounting system with the following columns:\n",
    "\n",
    "- `order_id`: A unique identifier for the order. This could be an automatically-generated number or a string.\n",
    "-  `customer_id`: A reference to the customer who placed the order. This might be a foreign key field that points to a customer table.\n",
    "- `order_date`: The date and time that the order was placed.\n",
    "- `total_amount`: The total cost of the order.\n",
    "- `payment_type`: The method of payment used for the order (e.g. credit card, cash, etc.).\n",
    "- `shipping_address`: The address to which the order should be shipped.\n",
    "- `order_status`: The current status of the order (e.g. \"pending,\" \"shipped,\" \"delivered,\" etc.).\n",
    "- `product_id`: A reference to the product(s) included in the order. This might be a foreign key field that points to a product table.\n",
    "- `quantity`: The number of units of each product that were ordered.\n",
    "- `unit_price`: The price of each unit of the product at the time the order was placed."
   ]
  },
  {
   "cell_type": "code",
   "execution_count": 5,
   "metadata": {},
   "outputs": [
    {
     "data": {
      "text/html": [
       "<div>\n",
       "<style scoped>\n",
       "    .dataframe tbody tr th:only-of-type {\n",
       "        vertical-align: middle;\n",
       "    }\n",
       "\n",
       "    .dataframe tbody tr th {\n",
       "        vertical-align: top;\n",
       "    }\n",
       "\n",
       "    .dataframe thead th {\n",
       "        text-align: right;\n",
       "    }\n",
       "</style>\n",
       "<table border=\"1\" class=\"dataframe\">\n",
       "  <thead>\n",
       "    <tr style=\"text-align: right;\">\n",
       "      <th></th>\n",
       "      <th>order_id</th>\n",
       "      <th>customer_id</th>\n",
       "      <th>order_date</th>\n",
       "      <th>total_amount</th>\n",
       "      <th>payment_type</th>\n",
       "      <th>shipping_address</th>\n",
       "      <th>order_status</th>\n",
       "      <th>product_id</th>\n",
       "      <th>quantity</th>\n",
       "      <th>unit_price</th>\n",
       "    </tr>\n",
       "  </thead>\n",
       "  <tbody>\n",
       "    <tr>\n",
       "      <th>0</th>\n",
       "      <td>1</td>\n",
       "      <td>121</td>\n",
       "      <td>1652196488</td>\n",
       "      <td>225</td>\n",
       "      <td>credit card</td>\n",
       "      <td>937 Main St, Cleveland, OH</td>\n",
       "      <td>pending</td>\n",
       "      <td>789</td>\n",
       "      <td>3</td>\n",
       "      <td>75</td>\n",
       "    </tr>\n",
       "    <tr>\n",
       "      <th>1</th>\n",
       "      <td>2</td>\n",
       "      <td>145</td>\n",
       "      <td>1669212963</td>\n",
       "      <td>250</td>\n",
       "      <td>credit card</td>\n",
       "      <td>595 Main St, Chicago, IL</td>\n",
       "      <td>delivered</td>\n",
       "      <td>456</td>\n",
       "      <td>5</td>\n",
       "      <td>50</td>\n",
       "    </tr>\n",
       "    <tr>\n",
       "      <th>2</th>\n",
       "      <td>3</td>\n",
       "      <td>123</td>\n",
       "      <td>1643716090</td>\n",
       "      <td>125</td>\n",
       "      <td>cash</td>\n",
       "      <td>999 Main St, Denver, CO</td>\n",
       "      <td>pending</td>\n",
       "      <td>123</td>\n",
       "      <td>5</td>\n",
       "      <td>25</td>\n",
       "    </tr>\n",
       "    <tr>\n",
       "      <th>3</th>\n",
       "      <td>4</td>\n",
       "      <td>154</td>\n",
       "      <td>1649746198</td>\n",
       "      <td>350</td>\n",
       "      <td>credit card</td>\n",
       "      <td>794 Main St, Cleveland, OH</td>\n",
       "      <td>delivered</td>\n",
       "      <td>456</td>\n",
       "      <td>7</td>\n",
       "      <td>50</td>\n",
       "    </tr>\n",
       "    <tr>\n",
       "      <th>4</th>\n",
       "      <td>5</td>\n",
       "      <td>175</td>\n",
       "      <td>1646029578</td>\n",
       "      <td>525</td>\n",
       "      <td>cash</td>\n",
       "      <td>478 Main St, Cleveland, OH</td>\n",
       "      <td>shipped</td>\n",
       "      <td>789</td>\n",
       "      <td>7</td>\n",
       "      <td>75</td>\n",
       "    </tr>\n",
       "  </tbody>\n",
       "</table>\n",
       "</div>"
      ],
      "text/plain": [
       "   order_id  customer_id  order_date  total_amount payment_type  \\\n",
       "0         1          121  1652196488           225  credit card   \n",
       "1         2          145  1669212963           250  credit card   \n",
       "2         3          123  1643716090           125         cash   \n",
       "3         4          154  1649746198           350  credit card   \n",
       "4         5          175  1646029578           525         cash   \n",
       "\n",
       "             shipping_address order_status  product_id  quantity  unit_price  \n",
       "0  937 Main St, Cleveland, OH      pending         789         3          75  \n",
       "1    595 Main St, Chicago, IL    delivered         456         5          50  \n",
       "2     999 Main St, Denver, CO      pending         123         5          25  \n",
       "3  794 Main St, Cleveland, OH    delivered         456         7          50  \n",
       "4  478 Main St, Cleveland, OH      shipped         789         7          75  "
      ]
     },
     "execution_count": 5,
     "metadata": {},
     "output_type": "execute_result"
    }
   ],
   "source": [
    "part1 = pd.read_csv('order.csv').iloc[scenario:]\n",
    "part1.head()"
   ]
  },
  {
   "cell_type": "markdown",
   "metadata": {},
   "source": [
    "# Part 1\n",
    "\n",
    "Focusing on the data frame `part1`\n",
    "\n",
    "1. report the number rows\n",
    "2. report the number of columns\n",
    "3. what is the total number of values in the data frame?\n",
    "4. select the first five rows (return a data frame)\n",
    "5. select the last five rows (return a data frame)\n",
    "6. select every other 10th row (return a data frame)\n",
    "7. create a new column `total` by multiplying `unit_price` with `quantity`. show the first five rows of `total` (return a series).\n",
    "8. check if each value of `total` equals the corresponding value of `total_amount` (return a `bool`)\n",
    "9. how many orders  were delivered?\n",
    "10. what is the most popular payment type?\n",
    "11. What is the most expensive order (highest total)? return a series representing the order row from the data frame.\n",
    "12. report the customer ids that end with `0`. Return a sorted list.\n",
    "13. Who requested the order with the largest quantity, return the customer id.\n",
    "14. How many distinct shipping addresses are there in the table?\n",
    "15. Who ordered most quatity of product 456 (total quantity in all orders). Report the customer id."
   ]
  },
  {
   "cell_type": "code",
   "execution_count": 6,
   "metadata": {},
   "outputs": [
    {
     "data": {
      "text/html": [
       "<div>\n",
       "<style scoped>\n",
       "    .dataframe tbody tr th:only-of-type {\n",
       "        vertical-align: middle;\n",
       "    }\n",
       "\n",
       "    .dataframe tbody tr th {\n",
       "        vertical-align: top;\n",
       "    }\n",
       "\n",
       "    .dataframe thead th {\n",
       "        text-align: right;\n",
       "    }\n",
       "</style>\n",
       "<table border=\"1\" class=\"dataframe\">\n",
       "  <thead>\n",
       "    <tr style=\"text-align: right;\">\n",
       "      <th></th>\n",
       "      <th>order_id</th>\n",
       "      <th>customer_id</th>\n",
       "      <th>order_date</th>\n",
       "      <th>total_amount</th>\n",
       "      <th>payment_type</th>\n",
       "      <th>shipping_address</th>\n",
       "      <th>order_status</th>\n",
       "      <th>product_id</th>\n",
       "      <th>quantity</th>\n",
       "      <th>unit_price</th>\n",
       "    </tr>\n",
       "  </thead>\n",
       "  <tbody>\n",
       "    <tr>\n",
       "      <th>0</th>\n",
       "      <td>1</td>\n",
       "      <td>121</td>\n",
       "      <td>1652196488</td>\n",
       "      <td>225</td>\n",
       "      <td>credit card</td>\n",
       "      <td>937 Main St, Cleveland, OH</td>\n",
       "      <td>pending</td>\n",
       "      <td>789</td>\n",
       "      <td>3</td>\n",
       "      <td>75</td>\n",
       "    </tr>\n",
       "    <tr>\n",
       "      <th>1</th>\n",
       "      <td>2</td>\n",
       "      <td>145</td>\n",
       "      <td>1669212963</td>\n",
       "      <td>250</td>\n",
       "      <td>credit card</td>\n",
       "      <td>595 Main St, Chicago, IL</td>\n",
       "      <td>delivered</td>\n",
       "      <td>456</td>\n",
       "      <td>5</td>\n",
       "      <td>50</td>\n",
       "    </tr>\n",
       "    <tr>\n",
       "      <th>2</th>\n",
       "      <td>3</td>\n",
       "      <td>123</td>\n",
       "      <td>1643716090</td>\n",
       "      <td>125</td>\n",
       "      <td>cash</td>\n",
       "      <td>999 Main St, Denver, CO</td>\n",
       "      <td>pending</td>\n",
       "      <td>l23</td>\n",
       "      <td>5</td>\n",
       "      <td>25</td>\n",
       "    </tr>\n",
       "    <tr>\n",
       "      <th>3</th>\n",
       "      <td>4</td>\n",
       "      <td>154</td>\n",
       "      <td>1649746198</td>\n",
       "      <td>350</td>\n",
       "      <td>credit card</td>\n",
       "      <td>794 Main St, Cleveland, OH</td>\n",
       "      <td>delivered</td>\n",
       "      <td>456</td>\n",
       "      <td>7</td>\n",
       "      <td>50</td>\n",
       "    </tr>\n",
       "    <tr>\n",
       "      <th>4</th>\n",
       "      <td>5</td>\n",
       "      <td>175</td>\n",
       "      <td>1646029578</td>\n",
       "      <td>525</td>\n",
       "      <td>cash</td>\n",
       "      <td>478 Main St, Cleveland, OH</td>\n",
       "      <td>shipped</td>\n",
       "      <td>789</td>\n",
       "      <td>7</td>\n",
       "      <td>75</td>\n",
       "    </tr>\n",
       "  </tbody>\n",
       "</table>\n",
       "</div>"
      ],
      "text/plain": [
       "   order_id  customer_id  order_date  total_amount payment_type  \\\n",
       "0         1          121  1652196488           225  credit card   \n",
       "1         2          145  1669212963           250  credit card   \n",
       "2         3          123  1643716090           125         cash   \n",
       "3         4          154  1649746198           350  credit card   \n",
       "4         5          175  1646029578           525         cash   \n",
       "\n",
       "             shipping_address order_status product_id quantity unit_price  \n",
       "0  937 Main St, Cleveland, OH      pending        789        3         75  \n",
       "1    595 Main St, Chicago, IL    delivered        456        5         50  \n",
       "2     999 Main St, Denver, CO      pending        l23        5         25  \n",
       "3  794 Main St, Cleveland, OH    delivered        456        7         50  \n",
       "4  478 Main St, Cleveland, OH      shipped        789        7         75  "
      ]
     },
     "execution_count": 6,
     "metadata": {},
     "output_type": "execute_result"
    }
   ],
   "source": [
    "part2 = pd.read_csv('order_corrupt.csv')\n",
    "part2.head()"
   ]
  },
  {
   "cell_type": "markdown",
   "metadata": {},
   "source": [
    "# Part 2\n",
    "\n",
    "Focusing on the data frame `part2`. \n",
    "\n",
    "The file `order_corrupt.csv` was obtained by running OCR on a scanned image.\n",
    "The OCR had issues in some entries mistaking number `1` with letter `l`.\n",
    "As a result, some numerical entries in the file are corrupt.\n",
    "\n",
    "16. What is the `dtypes` of `part2`?\n",
    "17. Replace the corrupt numbers with `na`. Show the first six rows.\n",
    "18. What are the `dtypes` now?\n",
    "19. How many rows are corrupt?\n",
    "20. Drop the corrupt rows. Show the first five rows in the resulting data frame."
   ]
  },
  {
   "cell_type": "markdown",
   "metadata": {},
   "source": [
    "# YOUR WORK\n",
    "\n",
    "## Part 1"
   ]
  },
  {
   "cell_type": "code",
   "execution_count": 7,
   "metadata": {},
   "outputs": [],
   "source": [
    "# 1. count number of rows\n",
    "test_1 = len(part1)"
   ]
  },
  {
   "cell_type": "code",
   "execution_count": 8,
   "metadata": {},
   "outputs": [],
   "source": [
    "# 2. count the number of columns\n",
    "test_2 = len(part1.columns)"
   ]
  },
  {
   "cell_type": "code",
   "execution_count": 9,
   "metadata": {},
   "outputs": [],
   "source": [
    "# 3. total number of values in dataframe\n",
    "test_3 = part1.count().sum()"
   ]
  },
  {
   "cell_type": "code",
   "execution_count": 10,
   "metadata": {},
   "outputs": [],
   "source": [
    "# 4. select first five rows\n",
    "test_4 = part1.head()"
   ]
  },
  {
   "cell_type": "code",
   "execution_count": 11,
   "metadata": {},
   "outputs": [],
   "source": [
    "# 5. select last five rows\n",
    "test_5 = part1.tail()"
   ]
  },
  {
   "cell_type": "code",
   "execution_count": 12,
   "metadata": {},
   "outputs": [],
   "source": [
    "# 6. select every other 10th row\n",
    "test_6 = part1[::10]"
   ]
  },
  {
   "cell_type": "code",
   "execution_count": 13,
   "metadata": {},
   "outputs": [],
   "source": [
    "# 7. create a new column total by multiplying unit_price with quantity. show the first five rows of total in a series\n",
    "part1['total'] = part1['quantity'] * part1['unit_price']\n",
    "test_7 = part1['total'].head()"
   ]
  },
  {
   "cell_type": "code",
   "execution_count": 14,
   "metadata": {},
   "outputs": [],
   "source": [
    "# 8. check if each value of total equals the corresponding value of total_amount as a boolean\n",
    "test_8 = part1['total'].equals(part1['total_amount'])"
   ]
  },
  {
   "cell_type": "code",
   "execution_count": 15,
   "metadata": {},
   "outputs": [],
   "source": [
    "# 9. how many orders were delivered\n",
    "test_9 = sum(part1['order_status'] == 'delivered')"
   ]
  },
  {
   "cell_type": "code",
   "execution_count": 16,
   "metadata": {},
   "outputs": [],
   "source": [
    "# 10. what is the most popular payment type?\n",
    "test_10 = part1['payment_type'].value_counts().idxmax()"
   ]
  },
  {
   "cell_type": "code",
   "execution_count": 17,
   "metadata": {},
   "outputs": [],
   "source": [
    "# 11. What is the most expensive order (highest total)? return a series representing the order row from the data frame.\n",
    "test_11 = part1.loc[part1['total_amount'].idxmax()]"
   ]
  },
  {
   "cell_type": "code",
   "execution_count": 18,
   "metadata": {},
   "outputs": [],
   "source": [
    "# 12. report the customer ids that end with 0. Return a sorted list\n",
    "test_12 = sorted([id for id in part1['customer_id'] if id%10 == 0])"
   ]
  },
  {
   "cell_type": "code",
   "execution_count": 19,
   "metadata": {},
   "outputs": [],
   "source": [
    "# 13. Who requested the order with the largest quantity, return the customer id\n",
    "test_13 = part1.loc[part1['quantity'].idxmax()]['customer_id']"
   ]
  },
  {
   "cell_type": "code",
   "execution_count": 20,
   "metadata": {},
   "outputs": [],
   "source": [
    "# 14. How many distinct shipping addresses are there in the table?\n",
    "test_14 = len(set(part1['shipping_address']))"
   ]
  },
  {
   "cell_type": "code",
   "execution_count": 21,
   "metadata": {},
   "outputs": [],
   "source": [
    "# 15. Who ordered most quantity of product 456 (total quantity in all orders). Report the customer id.\n",
    "test_15 = part1[part1['product_id'] == 456].groupby(['customer_id', 'product_id'])['quantity'].aggregate('sum').idxmax()[0]"
   ]
  },
  {
   "cell_type": "markdown",
   "metadata": {},
   "source": [
    "## Part 2"
   ]
  },
  {
   "cell_type": "code",
   "execution_count": 22,
   "metadata": {},
   "outputs": [],
   "source": [
    "# 16. What is the dtypes of part2?\n",
    "test_16 = part2.dtypes"
   ]
  },
  {
   "cell_type": "code",
   "execution_count": 23,
   "metadata": {},
   "outputs": [],
   "source": [
    "# 17. Replace the corrupt numbers with na. Show the first six rows.\n",
    "cols = ['product_id', 'quantity', 'unit_price']\n",
    "part2[cols] = part2[cols].apply(pd.to_numeric, errors='coerce', axis=1)\n",
    "test_17 = part2.head(6)"
   ]
  },
  {
   "cell_type": "code",
   "execution_count": 24,
   "metadata": {},
   "outputs": [],
   "source": [
    "# 18. What are the dtypes now?\n",
    "test_18 = part2.dtypes"
   ]
  },
  {
   "cell_type": "code",
   "execution_count": 25,
   "metadata": {},
   "outputs": [],
   "source": [
    "# 19. How many rows are corrupt?\n",
    "test_19 = part2.isna().sum().sum()"
   ]
  },
  {
   "cell_type": "code",
   "execution_count": 26,
   "metadata": {},
   "outputs": [],
   "source": [
    "# 20. Drop the corrupt rows. Show the first five rows in the resulting data frame.\n",
    "part2.dropna(inplace = True)\n",
    "test_20 = part2.head()"
   ]
  },
  {
   "cell_type": "markdown",
   "metadata": {},
   "source": [
    "# TESTS"
   ]
  },
  {
   "cell_type": "code",
   "execution_count": 27,
   "metadata": {},
   "outputs": [
    {
     "data": {
      "text/plain": [
       "100"
      ]
     },
     "execution_count": 27,
     "metadata": {},
     "output_type": "execute_result"
    }
   ],
   "source": [
    "### TEST 1\n",
    "test_1"
   ]
  },
  {
   "cell_type": "code",
   "execution_count": 28,
   "metadata": {},
   "outputs": [
    {
     "data": {
      "text/plain": [
       "10"
      ]
     },
     "execution_count": 28,
     "metadata": {},
     "output_type": "execute_result"
    }
   ],
   "source": [
    "## TEST 2\n",
    "test_2"
   ]
  },
  {
   "cell_type": "code",
   "execution_count": 29,
   "metadata": {},
   "outputs": [
    {
     "data": {
      "text/plain": [
       "1000"
      ]
     },
     "execution_count": 29,
     "metadata": {},
     "output_type": "execute_result"
    }
   ],
   "source": [
    "## TEST 3\n",
    "test_3"
   ]
  },
  {
   "cell_type": "code",
   "execution_count": 30,
   "metadata": {},
   "outputs": [
    {
     "data": {
      "text/html": [
       "<div>\n",
       "<style scoped>\n",
       "    .dataframe tbody tr th:only-of-type {\n",
       "        vertical-align: middle;\n",
       "    }\n",
       "\n",
       "    .dataframe tbody tr th {\n",
       "        vertical-align: top;\n",
       "    }\n",
       "\n",
       "    .dataframe thead th {\n",
       "        text-align: right;\n",
       "    }\n",
       "</style>\n",
       "<table border=\"1\" class=\"dataframe\">\n",
       "  <thead>\n",
       "    <tr style=\"text-align: right;\">\n",
       "      <th></th>\n",
       "      <th>order_id</th>\n",
       "      <th>customer_id</th>\n",
       "      <th>order_date</th>\n",
       "      <th>total_amount</th>\n",
       "      <th>payment_type</th>\n",
       "      <th>shipping_address</th>\n",
       "      <th>order_status</th>\n",
       "      <th>product_id</th>\n",
       "      <th>quantity</th>\n",
       "      <th>unit_price</th>\n",
       "    </tr>\n",
       "  </thead>\n",
       "  <tbody>\n",
       "    <tr>\n",
       "      <th>0</th>\n",
       "      <td>1</td>\n",
       "      <td>121</td>\n",
       "      <td>1652196488</td>\n",
       "      <td>225</td>\n",
       "      <td>credit card</td>\n",
       "      <td>937 Main St, Cleveland, OH</td>\n",
       "      <td>pending</td>\n",
       "      <td>789</td>\n",
       "      <td>3</td>\n",
       "      <td>75</td>\n",
       "    </tr>\n",
       "    <tr>\n",
       "      <th>1</th>\n",
       "      <td>2</td>\n",
       "      <td>145</td>\n",
       "      <td>1669212963</td>\n",
       "      <td>250</td>\n",
       "      <td>credit card</td>\n",
       "      <td>595 Main St, Chicago, IL</td>\n",
       "      <td>delivered</td>\n",
       "      <td>456</td>\n",
       "      <td>5</td>\n",
       "      <td>50</td>\n",
       "    </tr>\n",
       "    <tr>\n",
       "      <th>2</th>\n",
       "      <td>3</td>\n",
       "      <td>123</td>\n",
       "      <td>1643716090</td>\n",
       "      <td>125</td>\n",
       "      <td>cash</td>\n",
       "      <td>999 Main St, Denver, CO</td>\n",
       "      <td>pending</td>\n",
       "      <td>123</td>\n",
       "      <td>5</td>\n",
       "      <td>25</td>\n",
       "    </tr>\n",
       "    <tr>\n",
       "      <th>3</th>\n",
       "      <td>4</td>\n",
       "      <td>154</td>\n",
       "      <td>1649746198</td>\n",
       "      <td>350</td>\n",
       "      <td>credit card</td>\n",
       "      <td>794 Main St, Cleveland, OH</td>\n",
       "      <td>delivered</td>\n",
       "      <td>456</td>\n",
       "      <td>7</td>\n",
       "      <td>50</td>\n",
       "    </tr>\n",
       "    <tr>\n",
       "      <th>4</th>\n",
       "      <td>5</td>\n",
       "      <td>175</td>\n",
       "      <td>1646029578</td>\n",
       "      <td>525</td>\n",
       "      <td>cash</td>\n",
       "      <td>478 Main St, Cleveland, OH</td>\n",
       "      <td>shipped</td>\n",
       "      <td>789</td>\n",
       "      <td>7</td>\n",
       "      <td>75</td>\n",
       "    </tr>\n",
       "  </tbody>\n",
       "</table>\n",
       "</div>"
      ],
      "text/plain": [
       "   order_id  customer_id  order_date  total_amount payment_type  \\\n",
       "0         1          121  1652196488           225  credit card   \n",
       "1         2          145  1669212963           250  credit card   \n",
       "2         3          123  1643716090           125         cash   \n",
       "3         4          154  1649746198           350  credit card   \n",
       "4         5          175  1646029578           525         cash   \n",
       "\n",
       "             shipping_address order_status  product_id  quantity  unit_price  \n",
       "0  937 Main St, Cleveland, OH      pending         789         3          75  \n",
       "1    595 Main St, Chicago, IL    delivered         456         5          50  \n",
       "2     999 Main St, Denver, CO      pending         123         5          25  \n",
       "3  794 Main St, Cleveland, OH    delivered         456         7          50  \n",
       "4  478 Main St, Cleveland, OH      shipped         789         7          75  "
      ]
     },
     "execution_count": 30,
     "metadata": {},
     "output_type": "execute_result"
    }
   ],
   "source": [
    "## TEST 4\n",
    "test_4"
   ]
  },
  {
   "cell_type": "code",
   "execution_count": 31,
   "metadata": {},
   "outputs": [
    {
     "data": {
      "text/html": [
       "<div>\n",
       "<style scoped>\n",
       "    .dataframe tbody tr th:only-of-type {\n",
       "        vertical-align: middle;\n",
       "    }\n",
       "\n",
       "    .dataframe tbody tr th {\n",
       "        vertical-align: top;\n",
       "    }\n",
       "\n",
       "    .dataframe thead th {\n",
       "        text-align: right;\n",
       "    }\n",
       "</style>\n",
       "<table border=\"1\" class=\"dataframe\">\n",
       "  <thead>\n",
       "    <tr style=\"text-align: right;\">\n",
       "      <th></th>\n",
       "      <th>order_id</th>\n",
       "      <th>customer_id</th>\n",
       "      <th>order_date</th>\n",
       "      <th>total_amount</th>\n",
       "      <th>payment_type</th>\n",
       "      <th>shipping_address</th>\n",
       "      <th>order_status</th>\n",
       "      <th>product_id</th>\n",
       "      <th>quantity</th>\n",
       "      <th>unit_price</th>\n",
       "    </tr>\n",
       "  </thead>\n",
       "  <tbody>\n",
       "    <tr>\n",
       "      <th>95</th>\n",
       "      <td>96</td>\n",
       "      <td>161</td>\n",
       "      <td>1672897041</td>\n",
       "      <td>100</td>\n",
       "      <td>cash</td>\n",
       "      <td>194 Main St, Detroit, MI</td>\n",
       "      <td>shipped</td>\n",
       "      <td>321</td>\n",
       "      <td>1</td>\n",
       "      <td>100</td>\n",
       "    </tr>\n",
       "    <tr>\n",
       "      <th>96</th>\n",
       "      <td>97</td>\n",
       "      <td>177</td>\n",
       "      <td>1646495462</td>\n",
       "      <td>100</td>\n",
       "      <td>credit card</td>\n",
       "      <td>265 Main St, Detroit, MI</td>\n",
       "      <td>delivered</td>\n",
       "      <td>456</td>\n",
       "      <td>2</td>\n",
       "      <td>50</td>\n",
       "    </tr>\n",
       "    <tr>\n",
       "      <th>97</th>\n",
       "      <td>98</td>\n",
       "      <td>177</td>\n",
       "      <td>1646741606</td>\n",
       "      <td>100</td>\n",
       "      <td>cash</td>\n",
       "      <td>334 Main St, Baltimore, MD</td>\n",
       "      <td>delivered</td>\n",
       "      <td>123</td>\n",
       "      <td>4</td>\n",
       "      <td>25</td>\n",
       "    </tr>\n",
       "    <tr>\n",
       "      <th>98</th>\n",
       "      <td>99</td>\n",
       "      <td>181</td>\n",
       "      <td>1643865074</td>\n",
       "      <td>100</td>\n",
       "      <td>credit card</td>\n",
       "      <td>997 Main St, Baltimore, MD</td>\n",
       "      <td>pending</td>\n",
       "      <td>321</td>\n",
       "      <td>1</td>\n",
       "      <td>100</td>\n",
       "    </tr>\n",
       "    <tr>\n",
       "      <th>99</th>\n",
       "      <td>100</td>\n",
       "      <td>194</td>\n",
       "      <td>1656344283</td>\n",
       "      <td>625</td>\n",
       "      <td>credit card</td>\n",
       "      <td>147 Main St, Boston, MA</td>\n",
       "      <td>delivered</td>\n",
       "      <td>654</td>\n",
       "      <td>5</td>\n",
       "      <td>125</td>\n",
       "    </tr>\n",
       "  </tbody>\n",
       "</table>\n",
       "</div>"
      ],
      "text/plain": [
       "    order_id  customer_id  order_date  total_amount payment_type  \\\n",
       "95        96          161  1672897041           100         cash   \n",
       "96        97          177  1646495462           100  credit card   \n",
       "97        98          177  1646741606           100         cash   \n",
       "98        99          181  1643865074           100  credit card   \n",
       "99       100          194  1656344283           625  credit card   \n",
       "\n",
       "              shipping_address order_status  product_id  quantity  unit_price  \n",
       "95    194 Main St, Detroit, MI      shipped         321         1         100  \n",
       "96    265 Main St, Detroit, MI    delivered         456         2          50  \n",
       "97  334 Main St, Baltimore, MD    delivered         123         4          25  \n",
       "98  997 Main St, Baltimore, MD      pending         321         1         100  \n",
       "99     147 Main St, Boston, MA    delivered         654         5         125  "
      ]
     },
     "execution_count": 31,
     "metadata": {},
     "output_type": "execute_result"
    }
   ],
   "source": [
    "## TEST 5\n",
    "test_5"
   ]
  },
  {
   "cell_type": "code",
   "execution_count": 32,
   "metadata": {},
   "outputs": [
    {
     "data": {
      "text/html": [
       "<div>\n",
       "<style scoped>\n",
       "    .dataframe tbody tr th:only-of-type {\n",
       "        vertical-align: middle;\n",
       "    }\n",
       "\n",
       "    .dataframe tbody tr th {\n",
       "        vertical-align: top;\n",
       "    }\n",
       "\n",
       "    .dataframe thead th {\n",
       "        text-align: right;\n",
       "    }\n",
       "</style>\n",
       "<table border=\"1\" class=\"dataframe\">\n",
       "  <thead>\n",
       "    <tr style=\"text-align: right;\">\n",
       "      <th></th>\n",
       "      <th>order_id</th>\n",
       "      <th>customer_id</th>\n",
       "      <th>order_date</th>\n",
       "      <th>total_amount</th>\n",
       "      <th>payment_type</th>\n",
       "      <th>shipping_address</th>\n",
       "      <th>order_status</th>\n",
       "      <th>product_id</th>\n",
       "      <th>quantity</th>\n",
       "      <th>unit_price</th>\n",
       "    </tr>\n",
       "  </thead>\n",
       "  <tbody>\n",
       "    <tr>\n",
       "      <th>0</th>\n",
       "      <td>1</td>\n",
       "      <td>121</td>\n",
       "      <td>1652196488</td>\n",
       "      <td>225</td>\n",
       "      <td>credit card</td>\n",
       "      <td>937 Main St, Cleveland, OH</td>\n",
       "      <td>pending</td>\n",
       "      <td>789</td>\n",
       "      <td>3</td>\n",
       "      <td>75</td>\n",
       "    </tr>\n",
       "    <tr>\n",
       "      <th>10</th>\n",
       "      <td>11</td>\n",
       "      <td>149</td>\n",
       "      <td>1649539916</td>\n",
       "      <td>900</td>\n",
       "      <td>bank transfer</td>\n",
       "      <td>418 Main St, Chicago, IL</td>\n",
       "      <td>delivered</td>\n",
       "      <td>321</td>\n",
       "      <td>9</td>\n",
       "      <td>100</td>\n",
       "    </tr>\n",
       "    <tr>\n",
       "      <th>20</th>\n",
       "      <td>21</td>\n",
       "      <td>187</td>\n",
       "      <td>1642976445</td>\n",
       "      <td>600</td>\n",
       "      <td>bank transfer</td>\n",
       "      <td>854 Main St, Boston, MA</td>\n",
       "      <td>pending</td>\n",
       "      <td>789</td>\n",
       "      <td>8</td>\n",
       "      <td>75</td>\n",
       "    </tr>\n",
       "    <tr>\n",
       "      <th>30</th>\n",
       "      <td>31</td>\n",
       "      <td>200</td>\n",
       "      <td>1658023586</td>\n",
       "      <td>200</td>\n",
       "      <td>cash</td>\n",
       "      <td>249 Main St, Baltimore, MD</td>\n",
       "      <td>pending</td>\n",
       "      <td>456</td>\n",
       "      <td>4</td>\n",
       "      <td>50</td>\n",
       "    </tr>\n",
       "    <tr>\n",
       "      <th>40</th>\n",
       "      <td>41</td>\n",
       "      <td>197</td>\n",
       "      <td>1656880145</td>\n",
       "      <td>100</td>\n",
       "      <td>credit card</td>\n",
       "      <td>947 Main St, Detroit, MI</td>\n",
       "      <td>delivered</td>\n",
       "      <td>321</td>\n",
       "      <td>1</td>\n",
       "      <td>100</td>\n",
       "    </tr>\n",
       "    <tr>\n",
       "      <th>50</th>\n",
       "      <td>51</td>\n",
       "      <td>170</td>\n",
       "      <td>1648206641</td>\n",
       "      <td>125</td>\n",
       "      <td>cash</td>\n",
       "      <td>673 Main St, Cleveland, OH</td>\n",
       "      <td>pending</td>\n",
       "      <td>123</td>\n",
       "      <td>5</td>\n",
       "      <td>25</td>\n",
       "    </tr>\n",
       "    <tr>\n",
       "      <th>60</th>\n",
       "      <td>61</td>\n",
       "      <td>151</td>\n",
       "      <td>1671854130</td>\n",
       "      <td>225</td>\n",
       "      <td>cash</td>\n",
       "      <td>836 Main St, Atlanta, GA</td>\n",
       "      <td>pending</td>\n",
       "      <td>789</td>\n",
       "      <td>3</td>\n",
       "      <td>75</td>\n",
       "    </tr>\n",
       "    <tr>\n",
       "      <th>70</th>\n",
       "      <td>71</td>\n",
       "      <td>127</td>\n",
       "      <td>1672333405</td>\n",
       "      <td>375</td>\n",
       "      <td>cash</td>\n",
       "      <td>790 Main St, Atlanta, GA</td>\n",
       "      <td>delivered</td>\n",
       "      <td>654</td>\n",
       "      <td>3</td>\n",
       "      <td>125</td>\n",
       "    </tr>\n",
       "    <tr>\n",
       "      <th>80</th>\n",
       "      <td>81</td>\n",
       "      <td>154</td>\n",
       "      <td>1644935891</td>\n",
       "      <td>225</td>\n",
       "      <td>bank transfer</td>\n",
       "      <td>183 Main St, Detroit, MI</td>\n",
       "      <td>delivered</td>\n",
       "      <td>789</td>\n",
       "      <td>3</td>\n",
       "      <td>75</td>\n",
       "    </tr>\n",
       "    <tr>\n",
       "      <th>90</th>\n",
       "      <td>91</td>\n",
       "      <td>111</td>\n",
       "      <td>1673044712</td>\n",
       "      <td>75</td>\n",
       "      <td>cash</td>\n",
       "      <td>404 Main St, Boston, MA</td>\n",
       "      <td>shipped</td>\n",
       "      <td>789</td>\n",
       "      <td>1</td>\n",
       "      <td>75</td>\n",
       "    </tr>\n",
       "  </tbody>\n",
       "</table>\n",
       "</div>"
      ],
      "text/plain": [
       "    order_id  customer_id  order_date  total_amount   payment_type  \\\n",
       "0          1          121  1652196488           225    credit card   \n",
       "10        11          149  1649539916           900  bank transfer   \n",
       "20        21          187  1642976445           600  bank transfer   \n",
       "30        31          200  1658023586           200           cash   \n",
       "40        41          197  1656880145           100    credit card   \n",
       "50        51          170  1648206641           125           cash   \n",
       "60        61          151  1671854130           225           cash   \n",
       "70        71          127  1672333405           375           cash   \n",
       "80        81          154  1644935891           225  bank transfer   \n",
       "90        91          111  1673044712            75           cash   \n",
       "\n",
       "              shipping_address order_status  product_id  quantity  unit_price  \n",
       "0   937 Main St, Cleveland, OH      pending         789         3          75  \n",
       "10    418 Main St, Chicago, IL    delivered         321         9         100  \n",
       "20     854 Main St, Boston, MA      pending         789         8          75  \n",
       "30  249 Main St, Baltimore, MD      pending         456         4          50  \n",
       "40    947 Main St, Detroit, MI    delivered         321         1         100  \n",
       "50  673 Main St, Cleveland, OH      pending         123         5          25  \n",
       "60    836 Main St, Atlanta, GA      pending         789         3          75  \n",
       "70    790 Main St, Atlanta, GA    delivered         654         3         125  \n",
       "80    183 Main St, Detroit, MI    delivered         789         3          75  \n",
       "90     404 Main St, Boston, MA      shipped         789         1          75  "
      ]
     },
     "execution_count": 32,
     "metadata": {},
     "output_type": "execute_result"
    }
   ],
   "source": [
    "## TEST 6\n",
    "test_6"
   ]
  },
  {
   "cell_type": "code",
   "execution_count": 33,
   "metadata": {},
   "outputs": [
    {
     "data": {
      "text/plain": [
       "0    225\n",
       "1    250\n",
       "2    125\n",
       "3    350\n",
       "4    525\n",
       "Name: total, dtype: int64"
      ]
     },
     "execution_count": 33,
     "metadata": {},
     "output_type": "execute_result"
    }
   ],
   "source": [
    "## TEST 7\n",
    "test_7"
   ]
  },
  {
   "cell_type": "code",
   "execution_count": 34,
   "metadata": {},
   "outputs": [
    {
     "data": {
      "text/plain": [
       "False"
      ]
     },
     "execution_count": 34,
     "metadata": {},
     "output_type": "execute_result"
    }
   ],
   "source": [
    "## TEST 8\n",
    "test_8"
   ]
  },
  {
   "cell_type": "code",
   "execution_count": 35,
   "metadata": {},
   "outputs": [
    {
     "data": {
      "text/plain": [
       "34"
      ]
     },
     "execution_count": 35,
     "metadata": {},
     "output_type": "execute_result"
    }
   ],
   "source": [
    "## TEST 9\n",
    "test_9"
   ]
  },
  {
   "cell_type": "code",
   "execution_count": 36,
   "metadata": {},
   "outputs": [
    {
     "data": {
      "text/plain": [
       "'cash'"
      ]
     },
     "execution_count": 36,
     "metadata": {},
     "output_type": "execute_result"
    }
   ],
   "source": [
    "## TEST 10\n",
    "test_10"
   ]
  },
  {
   "cell_type": "code",
   "execution_count": 37,
   "metadata": {},
   "outputs": [
    {
     "data": {
      "text/plain": [
       "order_id                                  78\n",
       "customer_id                              129\n",
       "order_date                        1649410838\n",
       "total_amount                            1250\n",
       "payment_type                     credit card\n",
       "shipping_address    741 Main St, Atlanta, GA\n",
       "order_status                         pending\n",
       "product_id                               654\n",
       "quantity                                  10\n",
       "unit_price                               125\n",
       "total                                   1250\n",
       "Name: 77, dtype: object"
      ]
     },
     "execution_count": 37,
     "metadata": {},
     "output_type": "execute_result"
    }
   ],
   "source": [
    "## TEST 11\n",
    "test_11"
   ]
  },
  {
   "cell_type": "code",
   "execution_count": 38,
   "metadata": {},
   "outputs": [
    {
     "data": {
      "text/plain": [
       "[100, 120, 130, 160, 170, 180, 200]"
      ]
     },
     "execution_count": 38,
     "metadata": {},
     "output_type": "execute_result"
    }
   ],
   "source": [
    "## TEST 12\n",
    "test_12"
   ]
  },
  {
   "cell_type": "code",
   "execution_count": 39,
   "metadata": {},
   "outputs": [
    {
     "data": {
      "text/plain": [
       "136"
      ]
     },
     "execution_count": 39,
     "metadata": {},
     "output_type": "execute_result"
    }
   ],
   "source": [
    "## TEST 13\n",
    "test_13"
   ]
  },
  {
   "cell_type": "code",
   "execution_count": 40,
   "metadata": {},
   "outputs": [
    {
     "data": {
      "text/plain": [
       "99"
      ]
     },
     "execution_count": 40,
     "metadata": {},
     "output_type": "execute_result"
    }
   ],
   "source": [
    "## TEST 14\n",
    "test_14"
   ]
  },
  {
   "cell_type": "code",
   "execution_count": 41,
   "metadata": {},
   "outputs": [
    {
     "data": {
      "text/plain": [
       "147"
      ]
     },
     "execution_count": 41,
     "metadata": {},
     "output_type": "execute_result"
    }
   ],
   "source": [
    "## TEST 15\n",
    "test_15"
   ]
  },
  {
   "cell_type": "code",
   "execution_count": 42,
   "metadata": {},
   "outputs": [
    {
     "data": {
      "text/plain": [
       "order_id             int64\n",
       "customer_id          int64\n",
       "order_date           int64\n",
       "total_amount         int64\n",
       "payment_type        object\n",
       "shipping_address    object\n",
       "order_status        object\n",
       "product_id          object\n",
       "quantity            object\n",
       "unit_price          object\n",
       "dtype: object"
      ]
     },
     "execution_count": 42,
     "metadata": {},
     "output_type": "execute_result"
    }
   ],
   "source": [
    "## TEST 16\n",
    "test_16"
   ]
  },
  {
   "cell_type": "code",
   "execution_count": 43,
   "metadata": {},
   "outputs": [
    {
     "data": {
      "text/html": [
       "<div>\n",
       "<style scoped>\n",
       "    .dataframe tbody tr th:only-of-type {\n",
       "        vertical-align: middle;\n",
       "    }\n",
       "\n",
       "    .dataframe tbody tr th {\n",
       "        vertical-align: top;\n",
       "    }\n",
       "\n",
       "    .dataframe thead th {\n",
       "        text-align: right;\n",
       "    }\n",
       "</style>\n",
       "<table border=\"1\" class=\"dataframe\">\n",
       "  <thead>\n",
       "    <tr style=\"text-align: right;\">\n",
       "      <th></th>\n",
       "      <th>order_id</th>\n",
       "      <th>customer_id</th>\n",
       "      <th>order_date</th>\n",
       "      <th>total_amount</th>\n",
       "      <th>payment_type</th>\n",
       "      <th>shipping_address</th>\n",
       "      <th>order_status</th>\n",
       "      <th>product_id</th>\n",
       "      <th>quantity</th>\n",
       "      <th>unit_price</th>\n",
       "    </tr>\n",
       "  </thead>\n",
       "  <tbody>\n",
       "    <tr>\n",
       "      <th>0</th>\n",
       "      <td>1</td>\n",
       "      <td>121</td>\n",
       "      <td>1652196488</td>\n",
       "      <td>225</td>\n",
       "      <td>credit card</td>\n",
       "      <td>937 Main St, Cleveland, OH</td>\n",
       "      <td>pending</td>\n",
       "      <td>789.0</td>\n",
       "      <td>3.0</td>\n",
       "      <td>75.0</td>\n",
       "    </tr>\n",
       "    <tr>\n",
       "      <th>1</th>\n",
       "      <td>2</td>\n",
       "      <td>145</td>\n",
       "      <td>1669212963</td>\n",
       "      <td>250</td>\n",
       "      <td>credit card</td>\n",
       "      <td>595 Main St, Chicago, IL</td>\n",
       "      <td>delivered</td>\n",
       "      <td>456.0</td>\n",
       "      <td>5.0</td>\n",
       "      <td>50.0</td>\n",
       "    </tr>\n",
       "    <tr>\n",
       "      <th>2</th>\n",
       "      <td>3</td>\n",
       "      <td>123</td>\n",
       "      <td>1643716090</td>\n",
       "      <td>125</td>\n",
       "      <td>cash</td>\n",
       "      <td>999 Main St, Denver, CO</td>\n",
       "      <td>pending</td>\n",
       "      <td>NaN</td>\n",
       "      <td>5.0</td>\n",
       "      <td>25.0</td>\n",
       "    </tr>\n",
       "    <tr>\n",
       "      <th>3</th>\n",
       "      <td>4</td>\n",
       "      <td>154</td>\n",
       "      <td>1649746198</td>\n",
       "      <td>350</td>\n",
       "      <td>credit card</td>\n",
       "      <td>794 Main St, Cleveland, OH</td>\n",
       "      <td>delivered</td>\n",
       "      <td>456.0</td>\n",
       "      <td>7.0</td>\n",
       "      <td>50.0</td>\n",
       "    </tr>\n",
       "    <tr>\n",
       "      <th>4</th>\n",
       "      <td>5</td>\n",
       "      <td>175</td>\n",
       "      <td>1646029578</td>\n",
       "      <td>525</td>\n",
       "      <td>cash</td>\n",
       "      <td>478 Main St, Cleveland, OH</td>\n",
       "      <td>shipped</td>\n",
       "      <td>789.0</td>\n",
       "      <td>7.0</td>\n",
       "      <td>75.0</td>\n",
       "    </tr>\n",
       "    <tr>\n",
       "      <th>5</th>\n",
       "      <td>6</td>\n",
       "      <td>115</td>\n",
       "      <td>1670881753</td>\n",
       "      <td>450</td>\n",
       "      <td>credit card</td>\n",
       "      <td>363 Main St, Detroit, MI</td>\n",
       "      <td>delivered</td>\n",
       "      <td>789.0</td>\n",
       "      <td>6.0</td>\n",
       "      <td>75.0</td>\n",
       "    </tr>\n",
       "  </tbody>\n",
       "</table>\n",
       "</div>"
      ],
      "text/plain": [
       "   order_id  customer_id  order_date  total_amount payment_type  \\\n",
       "0         1          121  1652196488           225  credit card   \n",
       "1         2          145  1669212963           250  credit card   \n",
       "2         3          123  1643716090           125         cash   \n",
       "3         4          154  1649746198           350  credit card   \n",
       "4         5          175  1646029578           525         cash   \n",
       "5         6          115  1670881753           450  credit card   \n",
       "\n",
       "             shipping_address order_status  product_id  quantity  unit_price  \n",
       "0  937 Main St, Cleveland, OH      pending       789.0       3.0        75.0  \n",
       "1    595 Main St, Chicago, IL    delivered       456.0       5.0        50.0  \n",
       "2     999 Main St, Denver, CO      pending         NaN       5.0        25.0  \n",
       "3  794 Main St, Cleveland, OH    delivered       456.0       7.0        50.0  \n",
       "4  478 Main St, Cleveland, OH      shipped       789.0       7.0        75.0  \n",
       "5    363 Main St, Detroit, MI    delivered       789.0       6.0        75.0  "
      ]
     },
     "execution_count": 43,
     "metadata": {},
     "output_type": "execute_result"
    }
   ],
   "source": [
    "## TEST 17\n",
    "test_17"
   ]
  },
  {
   "cell_type": "code",
   "execution_count": 44,
   "metadata": {},
   "outputs": [
    {
     "data": {
      "text/plain": [
       "order_id              int64\n",
       "customer_id           int64\n",
       "order_date            int64\n",
       "total_amount          int64\n",
       "payment_type         object\n",
       "shipping_address     object\n",
       "order_status         object\n",
       "product_id          float64\n",
       "quantity            float64\n",
       "unit_price          float64\n",
       "dtype: object"
      ]
     },
     "execution_count": 44,
     "metadata": {},
     "output_type": "execute_result"
    }
   ],
   "source": [
    "## TEST 18\n",
    "test_18"
   ]
  },
  {
   "cell_type": "code",
   "execution_count": 45,
   "metadata": {},
   "outputs": [
    {
     "data": {
      "text/plain": [
       "3"
      ]
     },
     "execution_count": 45,
     "metadata": {},
     "output_type": "execute_result"
    }
   ],
   "source": [
    "## TEST 19\n",
    "test_19"
   ]
  },
  {
   "cell_type": "code",
   "execution_count": 46,
   "metadata": {},
   "outputs": [
    {
     "data": {
      "text/html": [
       "<div>\n",
       "<style scoped>\n",
       "    .dataframe tbody tr th:only-of-type {\n",
       "        vertical-align: middle;\n",
       "    }\n",
       "\n",
       "    .dataframe tbody tr th {\n",
       "        vertical-align: top;\n",
       "    }\n",
       "\n",
       "    .dataframe thead th {\n",
       "        text-align: right;\n",
       "    }\n",
       "</style>\n",
       "<table border=\"1\" class=\"dataframe\">\n",
       "  <thead>\n",
       "    <tr style=\"text-align: right;\">\n",
       "      <th></th>\n",
       "      <th>order_id</th>\n",
       "      <th>customer_id</th>\n",
       "      <th>order_date</th>\n",
       "      <th>total_amount</th>\n",
       "      <th>payment_type</th>\n",
       "      <th>shipping_address</th>\n",
       "      <th>order_status</th>\n",
       "      <th>product_id</th>\n",
       "      <th>quantity</th>\n",
       "      <th>unit_price</th>\n",
       "    </tr>\n",
       "  </thead>\n",
       "  <tbody>\n",
       "    <tr>\n",
       "      <th>0</th>\n",
       "      <td>1</td>\n",
       "      <td>121</td>\n",
       "      <td>1652196488</td>\n",
       "      <td>225</td>\n",
       "      <td>credit card</td>\n",
       "      <td>937 Main St, Cleveland, OH</td>\n",
       "      <td>pending</td>\n",
       "      <td>789.0</td>\n",
       "      <td>3.0</td>\n",
       "      <td>75.0</td>\n",
       "    </tr>\n",
       "    <tr>\n",
       "      <th>1</th>\n",
       "      <td>2</td>\n",
       "      <td>145</td>\n",
       "      <td>1669212963</td>\n",
       "      <td>250</td>\n",
       "      <td>credit card</td>\n",
       "      <td>595 Main St, Chicago, IL</td>\n",
       "      <td>delivered</td>\n",
       "      <td>456.0</td>\n",
       "      <td>5.0</td>\n",
       "      <td>50.0</td>\n",
       "    </tr>\n",
       "    <tr>\n",
       "      <th>3</th>\n",
       "      <td>4</td>\n",
       "      <td>154</td>\n",
       "      <td>1649746198</td>\n",
       "      <td>350</td>\n",
       "      <td>credit card</td>\n",
       "      <td>794 Main St, Cleveland, OH</td>\n",
       "      <td>delivered</td>\n",
       "      <td>456.0</td>\n",
       "      <td>7.0</td>\n",
       "      <td>50.0</td>\n",
       "    </tr>\n",
       "    <tr>\n",
       "      <th>4</th>\n",
       "      <td>5</td>\n",
       "      <td>175</td>\n",
       "      <td>1646029578</td>\n",
       "      <td>525</td>\n",
       "      <td>cash</td>\n",
       "      <td>478 Main St, Cleveland, OH</td>\n",
       "      <td>shipped</td>\n",
       "      <td>789.0</td>\n",
       "      <td>7.0</td>\n",
       "      <td>75.0</td>\n",
       "    </tr>\n",
       "    <tr>\n",
       "      <th>5</th>\n",
       "      <td>6</td>\n",
       "      <td>115</td>\n",
       "      <td>1670881753</td>\n",
       "      <td>450</td>\n",
       "      <td>credit card</td>\n",
       "      <td>363 Main St, Detroit, MI</td>\n",
       "      <td>delivered</td>\n",
       "      <td>789.0</td>\n",
       "      <td>6.0</td>\n",
       "      <td>75.0</td>\n",
       "    </tr>\n",
       "  </tbody>\n",
       "</table>\n",
       "</div>"
      ],
      "text/plain": [
       "   order_id  customer_id  order_date  total_amount payment_type  \\\n",
       "0         1          121  1652196488           225  credit card   \n",
       "1         2          145  1669212963           250  credit card   \n",
       "3         4          154  1649746198           350  credit card   \n",
       "4         5          175  1646029578           525         cash   \n",
       "5         6          115  1670881753           450  credit card   \n",
       "\n",
       "             shipping_address order_status  product_id  quantity  unit_price  \n",
       "0  937 Main St, Cleveland, OH      pending       789.0       3.0        75.0  \n",
       "1    595 Main St, Chicago, IL    delivered       456.0       5.0        50.0  \n",
       "3  794 Main St, Cleveland, OH    delivered       456.0       7.0        50.0  \n",
       "4  478 Main St, Cleveland, OH      shipped       789.0       7.0        75.0  \n",
       "5    363 Main St, Detroit, MI    delivered       789.0       6.0        75.0  "
      ]
     },
     "execution_count": 46,
     "metadata": {},
     "output_type": "execute_result"
    }
   ],
   "source": [
    "## TEST 20\n",
    "test_20"
   ]
  }
 ],
 "metadata": {
  "kernelspec": {
   "display_name": "Python 3 (ipykernel)",
   "language": "python",
   "name": "python3"
  },
  "language_info": {
   "codemirror_mode": {
    "name": "ipython",
    "version": 3
   },
   "file_extension": ".py",
   "mimetype": "text/x-python",
   "name": "python",
   "nbconvert_exporter": "python",
   "pygments_lexer": "ipython3",
   "version": "3.9.13"
  }
 },
 "nbformat": 4,
 "nbformat_minor": 2
}
