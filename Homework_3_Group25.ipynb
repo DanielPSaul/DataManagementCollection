{
 "cells": [
  {
   "cell_type": "markdown",
   "metadata": {},
   "source": [
    "# Instructions\n",
    "\n",
    "Your submission will be tested with the code tester. It is important to follow these instructions to ensure your work tests properly.\n",
    "\n",
    "- Do not change the content of the cells under __SETUP__ and __TESTS__\n",
    "- Work only in the __YOUR WORK__ area\n",
    "- Rename the notebook with your group at the end (subsitute XX with your group number).\n",
    "- Assign the results of each numbered question to the appropriate test variable. For example, the answer of `1.` should be assigned to `test_1`\n",
    "- Rounding: use the supplied function `hround` to round decimal numbers when instructed. It's important to use this function because there are [multiple ways to round numbers in Python](https://www.knowledgehut.com/blog/programming/python-rounding-numbers) and they may not result in the same value that the tester is testing against.\n",
    "- Ensure your run the cells under __SETUP__ before you run your work\n",
    "- Before you submit your work, ensure you clean up your notebook. Your notebook has to run without an error in order to be tested. The easiest way to ensure is to `Kernel->Restart & Run All`\n",
    "- Answers are provided in along with this notebook in eLC (look a picture named `solution_key`) for your convenience\n",
    "- You will need to write a program to calculate the answers. Setting the answers to be their correct values without solving them is considered *hardcoding* and will result in zero grade for the assignment as well as a potential academic honesty violation.\n",
    "- You can also test your submission using [the online code tester](https://notebook-tester.safadi-puzzler.com/)\n"
   ]
  },
  {
   "cell_type": "markdown",
   "metadata": {},
   "source": [
    "# SETUP"
   ]
  },
  {
   "cell_type": "code",
   "execution_count": null,
   "metadata": {},
   "outputs": [],
   "source": [
    "import pandas as pd\n",
    "import numpy as np\n",
    "import altair as alt"
   ]
  },
  {
   "cell_type": "code",
   "execution_count": null,
   "metadata": {
    "tags": [
     "parameters"
    ]
   },
   "outputs": [],
   "source": [
    "# DO NOT EDIT OR CHANGE THE CONTENT OF THIS CELL\n",
    "scenario = 0\n",
    "renderer = 'default'"
   ]
  },
  {
   "cell_type": "code",
   "execution_count": null,
   "metadata": {},
   "outputs": [],
   "source": [
    "# increase the number of Altair maximum allowed rows in dataset\n",
    "alt.data_transformers.enable('default', max_rows=None)\n"
   ]
  },
  {
   "cell_type": "code",
   "execution_count": null,
   "metadata": {},
   "outputs": [],
   "source": [
    "alt.renderers.enable(renderer)"
   ]
  },
  {
   "cell_type": "code",
   "execution_count": null,
   "metadata": {},
   "outputs": [],
   "source": [
    "def hround(number):\n",
    "    return round(number, 3 - scenario)"
   ]
  },
  {
   "cell_type": "code",
   "execution_count": null,
   "metadata": {},
   "outputs": [],
   "source": [
    "test_1=test_2=test_3=test_4=test_5=test_6=test_7=test_8=test_9=test_10=0.0\n",
    "test_11=test_12=test_13=test_14=test_15=test_16=test_17=test_18=test_19=test_20=0.0"
   ]
  },
  {
   "cell_type": "markdown",
   "metadata": {},
   "source": [
    "In this homework, we are going to use data from [Seshat: Global History Databank](https://seshatdatabank.info/). This data bank \"collects what is currently known about the social and political organization of human societies and how civilizations have evolved over time.\"\n",
    "\n",
    "This data has been used in several research projects to test hypotheses about human development and history. We are going to use a subset of this data that was curated in [Turchin et al. (2017)](https://doi.org/10.1073/pnas.1708800115). You do not need to but are strongly encourage to read the paper.\n",
    "\n",
    "The CSV file `pnas.1708800115.sd01.csv` contains data about the following variables:\n",
    "\n",
    "- `NGA`: Natural Geographic Areas. Each NGA is defined spatially by a\n",
    "boundary drawn on the world map that encloses an area delimited by naturally occurring geographical features (for example, river basins, coastal plains, valleys, and islands). The extent of the NGAs does not change over time\n",
    "- `PolID`: unique id of the polity\n",
    "- `Time`: year using the Gregorian/Julian calendar notation (e.g., CE and BCE negative values) in 100 year increments\n",
    "- `PolPop`: polity population\n",
    "- `PolTerr`: polity territory\n",
    "- `CapPop`: capital population\n",
    "- `levels`: hierarchy levels\n",
    "- `government`: features of governance (aggregate of data about Officers, Bureaucrats, Court, Merit Promotion, Soldires, Lawyers, Judges, Government buildings, Priests, Exam system, and Legal code)\n",
    "- `infrastr`: features of infrastructure (aggregate of data about Bridges, Canals, Ports, Mines, Roads, Irrigation, Market, Food storatge, and Water supply)\n",
    "- `writing`: features of information systems (aggregate of data about Mnemonic, Script, Lists, Alphabet, Records, Non-phonetic)\n",
    "- `texts`: features of written records and texts (Calendar, Science literature, Sacred texts, History, Religious literature, Finction, Practical literature, Philosophy)\n",
    "- `money`: features of the monetary system (aggregate of Articles, Tokens, Metals, Foreign coins, Indigenous coins, Paper currency)\n",
    "\n",
    "\n",
    "\n",
    "The CSV file `NGAClassification.csv` contains a classification of each `NGA` across two categories, `Region` the larger geographic area (e.g., Africa, Europe), and `Period` which is the relative period when this `NGA` reached considerable social complexity (Early, Intermediate, and late)\n"
   ]
  },
  {
   "cell_type": "code",
   "execution_count": null,
   "metadata": {},
   "outputs": [],
   "source": [
    "data = pd.read_csv('pnas.1708800115.sd01.csv').iloc[scenario:]\n",
    "data.head(2)"
   ]
  },
  {
   "cell_type": "code",
   "execution_count": null,
   "metadata": {},
   "outputs": [],
   "source": [
    "regions_dict = {'Upper Egypt': 'Africa',\n",
    " 'Niger Inland Delta': 'Africa',\n",
    " 'Ghanaian Coast': 'Africa',\n",
    " 'Latium': 'Europe',\n",
    " 'Paris Basin': 'Europe',\n",
    " 'Iceland': 'Europe',\n",
    " 'Sogdiana': 'Central Eurasia',\n",
    " 'Orkhon Valley': 'Central Eurasia',\n",
    " 'Lena River Valley': 'Central Eurasia',\n",
    " 'Yemeni Coastal Plain': 'Southwest Asia',\n",
    " 'Susiana': 'Southwest Asia',\n",
    " 'Konya Plain': 'Southwest Asia',\n",
    " 'Deccan': 'South Asia',\n",
    " 'Garo Hills': 'South Asia',\n",
    " 'Kachi Plain': 'South Asia',\n",
    " 'Kapuasi Basin': 'Southeast Asia',\n",
    " 'Central Java': 'Southeast Asia',\n",
    " 'Cambodian Basin': 'Southeast Asia',\n",
    " 'Southern China Hills': 'East Asia',\n",
    " 'Middle Yellow River Valley': 'East Asia',\n",
    " 'Kansai': 'East Asia',\n",
    " 'Finger Lakes': 'North America',\n",
    " 'Cahokia': 'North America',\n",
    " 'Valley of Oaxaca': 'North America',\n",
    " 'Cuzco': 'South America',\n",
    " 'Lowland Andes': 'South America',\n",
    " 'North Colombia': 'South America',\n",
    " 'Big Island Hawaii': 'Ocenaia-Australia',\n",
    " 'Chuuk Islands': 'Ocenaia-Australia',\n",
    " 'Oro PNG': 'Ocenaia-Australia'}"
   ]
  },
  {
   "cell_type": "code",
   "execution_count": null,
   "metadata": {},
   "outputs": [],
   "source": [
    "# create a column region that contains the region for each row\n",
    "data['Region'] = data['NGA'].map(regions_dict)"
   ]
  },
  {
   "cell_type": "markdown",
   "metadata": {},
   "source": [
    "# Questions\n",
    "\n",
    "using the Altair library, create the following visualizations:\n",
    "\n",
    "1. Create a bar chart showing the number of observations (count) per Region\n",
    "\n",
    "2. Create a bar chart showing the average value of money per Region\n",
    "\n",
    "3. Create a line plot showing the average value of PolPop over Time \n",
    "\n",
    "4. Build on the previous question but use color to draw a line per Region \n",
    "\n",
    "5. Create a line plot showing the average value of PolTerr over Time \n",
    "\n",
    "6. Put (3) and (5) side by side  \n",
    "\n",
    "7. Create a histogram of PolPop, using 20 bins\n",
    "\n",
    "8. Create a similar histogram for each variable in PolPop, PolTerr, CapPop, levels, government, infrastr, writing, texts and money. Organize all the histograms in a 3x3 grid\n",
    "\n",
    "9. Create a plot representing the mean of money per region (y-axis) and time (x-axis). Use circle marks and color to represent the region and size to represent the mean of money\n",
    "\n",
    "10. Create a similar plot using a stacked area chart. Use a `center` value the stack parameter of the y encoding\n",
    "\n",
    "11. Create a scatter plot of money vs. PolPop and use circle as a graphical mark\n",
    "\n",
    "12. Repeat the previous chart per `Region` using the column channel\n",
    "\n",
    "13. Create a bar chart with a bar from the min of levels to the max of levels per NGA\n",
    "\n",
    "14. Create a tick chart where ticks are the mean levels per NGA. The ticks should be red\n",
    "\n",
    "15. Combine the two previous charts putting the ticks on top of the bars\n",
    "\n",
    "16. Create an area chart with the area extending from the q1 of levels to the q3 of levels on the y-axis. Put Time on the x-axis\n",
    "\n",
    "17. Create a red line with the median value of levels on the y-axis and Time on the x-axis\n",
    "\n",
    "18. Put the line on top of the area chart\n",
    "\n",
    "19. Create a heatmap (use rect mark) showing the average value of government variable in each region over Time\n",
    "\n",
    "20. Repeat the previous chart for each irep using the row channel \n"
   ]
  },
  {
   "cell_type": "markdown",
   "metadata": {},
   "source": [
    "# Your Work Here"
   ]
  },
  {
   "cell_type": "code",
   "execution_count": null,
   "metadata": {},
   "outputs": [],
   "source": [
    "# Question 1\n",
    "test_1 = alt.Chart(data).mark_bar().encode(\n",
    "    x='count(Region)',\n",
    "    y='Region'\n",
    ")"
   ]
  },
  {
   "cell_type": "code",
   "execution_count": null,
   "metadata": {},
   "outputs": [],
   "source": [
    "# Question 2\n",
    "test_2 = alt.Chart(data).mark_bar().encode(\n",
    "    x='mean(money)',\n",
    "    y='Region'\n",
    ")"
   ]
  },
  {
   "cell_type": "code",
   "execution_count": null,
   "metadata": {},
   "outputs": [],
   "source": [
    "# Question 3\n",
    "test_3 = alt.Chart(data).mark_line().encode(\n",
    "    x='Time',\n",
    "    y='mean(PolPop)'\n",
    ")"
   ]
  },
  {
   "cell_type": "code",
   "execution_count": null,
   "metadata": {},
   "outputs": [],
   "source": [
    "# Question 4\n",
    "test_4 = alt.Chart(data).mark_line().encode(\n",
    "    x='Time',\n",
    "    y='mean(PolPop)',\n",
    "    color='Region'\n",
    ")"
   ]
  },
  {
   "cell_type": "code",
   "execution_count": null,
   "metadata": {},
   "outputs": [],
   "source": [
    "# Question 5\n",
    "test_5 = alt.Chart(data).mark_line().encode(\n",
    "    x='Time',\n",
    "    y='mean(PolTerr)'\n",
    ")"
   ]
  },
  {
   "cell_type": "code",
   "execution_count": null,
   "metadata": {},
   "outputs": [],
   "source": [
    "# Question 6\n",
    "polpop = alt.Chart(data).mark_line().encode(\n",
    "    x='Time',\n",
    "    y='mean(PolPop)'\n",
    ")\n",
    "\n",
    "polterr = alt.Chart(data).mark_line().encode(\n",
    "    x='Time',\n",
    "    y='mean(PolTerr)'\n",
    ")\n",
    "\n",
    "test_6 = (polpop) | (polterr)"
   ]
  },
  {
   "cell_type": "code",
   "execution_count": null,
   "metadata": {},
   "outputs": [],
   "source": [
    "# Question 7\n",
    "test_7 = alt.Chart(data).mark_bar().encode(\n",
    "    alt.X('PolPop', bin=alt.Bin(maxbins=20)),\n",
    "    y='count()'\n",
    ")"
   ]
  },
  {
   "cell_type": "code",
   "execution_count": null,
   "metadata": {},
   "outputs": [],
   "source": [
    "# Question 8\n",
    "test_8 = alt.Chart(data).mark_bar().encode(\n",
    "    x=alt.X(alt.repeat('repeat'), type='quantitative', bin=alt.Bin(maxbins=20)),\n",
    "    y='count()'\n",
    ").repeat(\n",
    "    repeat=['PolPop', 'PolTerr', 'CapPop', 'levels', 'government', 'infrastr', 'writing', 'texts', 'money'], \n",
    "    columns=3\n",
    ")"
   ]
  },
  {
   "cell_type": "code",
   "execution_count": null,
   "metadata": {},
   "outputs": [],
   "source": [
    "# Question 9\n",
    "new_df = data.groupby(['Region', 'Time'])['money'].mean().reset_index()\n",
    "test_9 = alt.Chart(new_df).mark_circle().encode(\n",
    "    x='Time',\n",
    "    y='Region',\n",
    "    size='money',\n",
    "    color='Region'\n",
    ")"
   ]
  },
  {
   "cell_type": "code",
   "execution_count": null,
   "metadata": {},
   "outputs": [],
   "source": [
    "# Question 10\n",
    "test_10 = alt.Chart(new_df).mark_area().encode(\n",
    "    x='Time',\n",
    "    y=alt.Y('money', stack='center'),\n",
    "    color='Region'\n",
    ")"
   ]
  },
  {
   "cell_type": "code",
   "execution_count": null,
   "metadata": {},
   "outputs": [],
   "source": [
    "# Question 11\n",
    "test_11 = alt.Chart(data).mark_point().encode(\n",
    "    x='PolPop',\n",
    "    y='money'\n",
    ")"
   ]
  },
  {
   "cell_type": "code",
   "execution_count": null,
   "metadata": {},
   "outputs": [],
   "source": [
    "# Question 12\n",
    "test_12 = alt.Chart(data).mark_point().encode(\n",
    "    x='PolPop',\n",
    "    y='money'\n",
    ").facet('Region')"
   ]
  },
  {
   "cell_type": "code",
   "execution_count": null,
   "metadata": {},
   "outputs": [],
   "source": [
    "# Question 13\n",
    "test_13 = alt.Chart(data).mark_bar().encode(\n",
    "    x='NGA',\n",
    "    y='min(levels)',\n",
    "    y2='max(levels)'\n",
    ")"
   ]
  },
  {
   "cell_type": "code",
   "execution_count": null,
   "metadata": {},
   "outputs": [],
   "source": [
    "# Question 14\n",
    "test_14 = alt.Chart(data).mark_tick(color='red').encode(\n",
    "    x='NGA',\n",
    "    y='mean(levels)'\n",
    ")"
   ]
  },
  {
   "cell_type": "code",
   "execution_count": null,
   "metadata": {},
   "outputs": [],
   "source": [
    "# Question 15\n",
    "test_15 = test_13 + test_14"
   ]
  },
  {
   "cell_type": "code",
   "execution_count": null,
   "metadata": {},
   "outputs": [],
   "source": [
    "# Question 16\n",
    "test_16 = alt.Chart(data).mark_area().encode(\n",
    "    x='Time',\n",
    "    y='q1(levels)',\n",
    "    y2='q3(levels)'\n",
    ")"
   ]
  },
  {
   "cell_type": "code",
   "execution_count": null,
   "metadata": {},
   "outputs": [],
   "source": [
    "# Question 17\n",
    "test_17 = alt.Chart(data).mark_line(color='red').encode(\n",
    "    x='Time',\n",
    "    y='median(levels)'\n",
    ")"
   ]
  },
  {
   "cell_type": "code",
   "execution_count": null,
   "metadata": {},
   "outputs": [],
   "source": [
    "# Question 18\n",
    "test_18 = test_16 + test_17"
   ]
  },
  {
   "cell_type": "code",
   "execution_count": null,
   "metadata": {},
   "outputs": [],
   "source": [
    "# Question 19\n",
    "test_19 = alt.Chart(data).mark_rect().encode(\n",
    "    x='Time',\n",
    "    y='Region',\n",
    "    color='mean(government)'\n",
    ")"
   ]
  },
  {
   "cell_type": "code",
   "execution_count": null,
   "metadata": {},
   "outputs": [],
   "source": [
    "# Question 20\n",
    "test_20 = alt.Chart(data).mark_rect().encode(\n",
    "    x='Time',\n",
    "    y='Region',\n",
    "    color='mean(government)'\n",
    ").facet(row='irep')"
   ]
  },
  {
   "cell_type": "markdown",
   "metadata": {},
   "source": [
    "# TESTS"
   ]
  },
  {
   "cell_type": "code",
   "execution_count": null,
   "metadata": {},
   "outputs": [],
   "source": [
    "### TEST 1\n",
    "test_1"
   ]
  },
  {
   "cell_type": "code",
   "execution_count": null,
   "metadata": {},
   "outputs": [],
   "source": [
    "## TEST 2\n",
    "test_2"
   ]
  },
  {
   "cell_type": "code",
   "execution_count": null,
   "metadata": {},
   "outputs": [],
   "source": [
    "## TEST 3\n",
    "test_3"
   ]
  },
  {
   "cell_type": "code",
   "execution_count": null,
   "metadata": {},
   "outputs": [],
   "source": [
    "## TEST 4\n",
    "test_4"
   ]
  },
  {
   "cell_type": "code",
   "execution_count": null,
   "metadata": {},
   "outputs": [],
   "source": [
    "## TEST 5\n",
    "test_5"
   ]
  },
  {
   "cell_type": "code",
   "execution_count": null,
   "metadata": {},
   "outputs": [],
   "source": [
    "## TEST 6\n",
    "test_6"
   ]
  },
  {
   "cell_type": "code",
   "execution_count": null,
   "metadata": {},
   "outputs": [],
   "source": [
    "## TEST 7\n",
    "test_7"
   ]
  },
  {
   "cell_type": "code",
   "execution_count": null,
   "metadata": {},
   "outputs": [],
   "source": [
    "## TEST 8\n",
    "test_8"
   ]
  },
  {
   "cell_type": "code",
   "execution_count": null,
   "metadata": {},
   "outputs": [],
   "source": [
    "## TEST 9\n",
    "test_9"
   ]
  },
  {
   "cell_type": "code",
   "execution_count": null,
   "metadata": {},
   "outputs": [],
   "source": [
    "## TEST 10\n",
    "test_10"
   ]
  },
  {
   "cell_type": "code",
   "execution_count": null,
   "metadata": {},
   "outputs": [],
   "source": [
    "## TEST 11\n",
    "test_11"
   ]
  },
  {
   "cell_type": "code",
   "execution_count": null,
   "metadata": {},
   "outputs": [],
   "source": [
    "## TEST 12\n",
    "test_12"
   ]
  },
  {
   "cell_type": "code",
   "execution_count": null,
   "metadata": {},
   "outputs": [],
   "source": [
    "## TEST 13\n",
    "test_13"
   ]
  },
  {
   "cell_type": "code",
   "execution_count": null,
   "metadata": {},
   "outputs": [],
   "source": [
    "## TEST 14\n",
    "test_14"
   ]
  },
  {
   "cell_type": "code",
   "execution_count": null,
   "metadata": {},
   "outputs": [],
   "source": [
    "## TEST 15\n",
    "test_15"
   ]
  },
  {
   "cell_type": "code",
   "execution_count": null,
   "metadata": {},
   "outputs": [],
   "source": [
    "## TEST 16\n",
    "test_16"
   ]
  },
  {
   "cell_type": "code",
   "execution_count": null,
   "metadata": {},
   "outputs": [],
   "source": [
    "## TEST 17\n",
    "test_17"
   ]
  },
  {
   "cell_type": "code",
   "execution_count": null,
   "metadata": {},
   "outputs": [],
   "source": [
    "## TEST 18\n",
    "test_18"
   ]
  },
  {
   "cell_type": "code",
   "execution_count": null,
   "metadata": {},
   "outputs": [],
   "source": [
    "## TEST 19\n",
    "test_19"
   ]
  },
  {
   "cell_type": "code",
   "execution_count": null,
   "metadata": {},
   "outputs": [],
   "source": [
    "## TEST 20\n",
    "test_20"
   ]
  }
 ],
 "metadata": {
  "kernelspec": {
   "display_name": "Python 3 (ipykernel)",
   "language": "python",
   "name": "python3"
  },
  "language_info": {
   "codemirror_mode": {
    "name": "ipython",
    "version": 3
   },
   "file_extension": ".py",
   "mimetype": "text/x-python",
   "name": "python",
   "nbconvert_exporter": "python",
   "pygments_lexer": "ipython3",
   "version": "3.9.13"
  },
  "vscode": {
   "interpreter": {
    "hash": "e6f8c17507029c8e461fe83051d80591a5187642c3746ecbff2fcb74af0a3602"
   }
  }
 },
 "nbformat": 4,
 "nbformat_minor": 2
}
