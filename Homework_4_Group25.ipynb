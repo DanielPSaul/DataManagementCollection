{
 "cells": [
  {
   "cell_type": "markdown",
   "metadata": {},
   "source": [
    "# Instructions\n",
    "\n",
    "Your submission will be tested with the code tester. It is important to follow these instructions to ensure your work tests properly.\n",
    "\n",
    "- Do not change the content of the cells under __SETUP__ and __TESTS__\n",
    "- Work only in the __YOUR WORK__ area\n",
    "- Rename the notebook with your group at the end (subsitute XX with your group number).\n",
    "- Assign the results of each numbered question to the appropriate test variable. For example, the answer of `1.` should be assigned to `test_1`\n",
    "- Rounding: use the supplied function `hround` to round decimal numbers when instructed. It's important to use this function because there are [multiple ways to round numbers in Python](https://www.knowledgehut.com/blog/programming/python-rounding-numbers) and they may not result in the same value that the tester is testing against.\n",
    "- Ensure your run the cells under __SETUP__ before you run your work\n",
    "- Before you submit your work, ensure you clean up your notebook. Your notebook has to run without an error in order to be tested. The easiest way to ensure is to `Kernel->Restart & Run All`\n",
    "- Answers are provided in along with this notebook in eLC (look a picture named `solution_key`) for your convenience\n",
    "- You will need to write a program to calculate the answers. Setting the answers to be their correct values without solving them is considered *hardcoding* and will result in zero grade for the assignment as well as a potential academic honesty violation.\n",
    "- You can also test your submission using [the online code tester](https://notebook-tester.safadi-puzzler.com/)\n"
   ]
  },
  {
   "cell_type": "markdown",
   "metadata": {},
   "source": [
    "# SETUP"
   ]
  },
  {
   "cell_type": "code",
   "execution_count": 1,
   "metadata": {},
   "outputs": [],
   "source": [
    "import pandas as pd\n",
    "import numpy as np\n",
    "import networkx as nx\n",
    "from networkx.algorithms import community"
   ]
  },
  {
   "cell_type": "code",
   "execution_count": 2,
   "metadata": {
    "tags": [
     "parameters"
    ]
   },
   "outputs": [],
   "source": [
    "# DO NOT EDIT OR CHANGE THE CONTENT OF THIS CELL\n",
    "scenario = 0"
   ]
  },
  {
   "cell_type": "code",
   "execution_count": 3,
   "metadata": {},
   "outputs": [],
   "source": [
    "def hround(number):\n",
    "    return round(number, 3 - scenario)"
   ]
  },
  {
   "cell_type": "code",
   "execution_count": 4,
   "metadata": {},
   "outputs": [],
   "source": [
    "test_1=test_2=test_3=test_4=test_5=test_6=test_7=test_8=test_9=test_10=0.0\n",
    "test_11=test_12=test_13=test_14=test_15=test_16=test_17=test_18=test_19=test_20=0.0"
   ]
  },
  {
   "cell_type": "markdown",
   "metadata": {},
   "source": [
    "In this homework, we are going to use data from [COVID19 Tweets | Kaggle](https://www.kaggle.com/datasets/gpreda/covid19-tweets). \n",
    "\n",
    "> These tweets are collected using Twitter API and a Python script. A query for this high-frequency hashtag (#covid19) is run on a daily basis for a > certain time period, to collect a larger number of tweets samples.\n",
    "\n",
    "We are using a subset of the data where the declared `user_location` ends with a two letter US state abbreviation.\n"
   ]
  },
  {
   "cell_type": "code",
   "execution_count": 5,
   "metadata": {},
   "outputs": [
    {
     "name": "stdout",
     "output_type": "stream",
     "text": [
      "(387, 13)\n"
     ]
    },
    {
     "data": {
      "text/html": [
       "<div>\n",
       "<style scoped>\n",
       "    .dataframe tbody tr th:only-of-type {\n",
       "        vertical-align: middle;\n",
       "    }\n",
       "\n",
       "    .dataframe tbody tr th {\n",
       "        vertical-align: top;\n",
       "    }\n",
       "\n",
       "    .dataframe thead th {\n",
       "        text-align: right;\n",
       "    }\n",
       "</style>\n",
       "<table border=\"1\" class=\"dataframe\">\n",
       "  <thead>\n",
       "    <tr style=\"text-align: right;\">\n",
       "      <th></th>\n",
       "      <th>user_name</th>\n",
       "      <th>user_location</th>\n",
       "      <th>user_description</th>\n",
       "      <th>user_created</th>\n",
       "      <th>user_followers</th>\n",
       "      <th>user_friends</th>\n",
       "      <th>user_favourites</th>\n",
       "      <th>user_verified</th>\n",
       "      <th>date</th>\n",
       "      <th>text</th>\n",
       "      <th>hashtags</th>\n",
       "      <th>source</th>\n",
       "      <th>is_retweet</th>\n",
       "    </tr>\n",
       "  </thead>\n",
       "  <tbody>\n",
       "    <tr>\n",
       "      <th>0</th>\n",
       "      <td>Todd J Zola</td>\n",
       "      <td>wilmington,nc</td>\n",
       "      <td>Entertainer/Influencer\\nhttps://t.co/hv4X46EP40</td>\n",
       "      <td>2009-09-07 21:54:11</td>\n",
       "      <td>494</td>\n",
       "      <td>173</td>\n",
       "      <td>3696</td>\n",
       "      <td>False</td>\n",
       "      <td>2020-07-25 12:16:37</td>\n",
       "      <td>I hope everyone is watching how news or how th...</td>\n",
       "      <td>['COVID19']</td>\n",
       "      <td>Twitter for Android</td>\n",
       "      <td>False</td>\n",
       "    </tr>\n",
       "    <tr>\n",
       "      <th>1</th>\n",
       "      <td>Dr. India White</td>\n",
       "      <td>Fl</td>\n",
       "      <td>I'm from Fl. I am a Gates and McKnight fellow,...</td>\n",
       "      <td>2011-06-21 18:02:16</td>\n",
       "      <td>1544</td>\n",
       "      <td>2225</td>\n",
       "      <td>5490</td>\n",
       "      <td>False</td>\n",
       "      <td>2020-07-25 12:09:29</td>\n",
       "      <td>Here you go Twitter! It's great to be a Florid...</td>\n",
       "      <td>NaN</td>\n",
       "      <td>Twitter for Android</td>\n",
       "      <td>False</td>\n",
       "    </tr>\n",
       "    <tr>\n",
       "      <th>2</th>\n",
       "      <td>JasonAndJessica</td>\n",
       "      <td>NC</td>\n",
       "      <td>Married with children and care about their fut...</td>\n",
       "      <td>2016-03-06 00:08:38</td>\n",
       "      <td>5</td>\n",
       "      <td>80</td>\n",
       "      <td>135</td>\n",
       "      <td>False</td>\n",
       "      <td>2020-07-25 12:08:59</td>\n",
       "      <td>If anyone still thinks #teachers are concerned...</td>\n",
       "      <td>['teachers', 'COVID19']</td>\n",
       "      <td>Twitter for iPhone</td>\n",
       "      <td>False</td>\n",
       "    </tr>\n",
       "    <tr>\n",
       "      <th>3</th>\n",
       "      <td>Billy Holiday</td>\n",
       "      <td>nj</td>\n",
       "      <td>NaN</td>\n",
       "      <td>2010-10-31 11:34:11</td>\n",
       "      <td>830</td>\n",
       "      <td>724</td>\n",
       "      <td>73472</td>\n",
       "      <td>False</td>\n",
       "      <td>2020-07-25 11:54:54</td>\n",
       "      <td>SIGN @MOMSRISING'S LETTER to your Senator urgi...</td>\n",
       "      <td>['savechildcare', 'paidleaveforall']</td>\n",
       "      <td>Twitter Web App</td>\n",
       "      <td>False</td>\n",
       "    </tr>\n",
       "    <tr>\n",
       "      <th>4</th>\n",
       "      <td>Jill</td>\n",
       "      <td>Mi</td>\n",
       "      <td>NaN</td>\n",
       "      <td>2009-03-29 15:02:44</td>\n",
       "      <td>50</td>\n",
       "      <td>239</td>\n",
       "      <td>1551</td>\n",
       "      <td>False</td>\n",
       "      <td>2020-07-25 11:53:22</td>\n",
       "      <td>@realDonaldTrump So @GOP Cancels their convent...</td>\n",
       "      <td>NaN</td>\n",
       "      <td>Twitter for iPhone</td>\n",
       "      <td>False</td>\n",
       "    </tr>\n",
       "  </tbody>\n",
       "</table>\n",
       "</div>"
      ],
      "text/plain": [
       "         user_name  user_location  \\\n",
       "0      Todd J Zola  wilmington,nc   \n",
       "1  Dr. India White             Fl   \n",
       "2  JasonAndJessica             NC   \n",
       "3    Billy Holiday             nj   \n",
       "4             Jill             Mi   \n",
       "\n",
       "                                    user_description         user_created  \\\n",
       "0    Entertainer/Influencer\\nhttps://t.co/hv4X46EP40  2009-09-07 21:54:11   \n",
       "1  I'm from Fl. I am a Gates and McKnight fellow,...  2011-06-21 18:02:16   \n",
       "2  Married with children and care about their fut...  2016-03-06 00:08:38   \n",
       "3                                                NaN  2010-10-31 11:34:11   \n",
       "4                                                NaN  2009-03-29 15:02:44   \n",
       "\n",
       "   user_followers  user_friends  user_favourites  user_verified  \\\n",
       "0             494           173             3696          False   \n",
       "1            1544          2225             5490          False   \n",
       "2               5            80              135          False   \n",
       "3             830           724            73472          False   \n",
       "4              50           239             1551          False   \n",
       "\n",
       "                  date                                               text  \\\n",
       "0  2020-07-25 12:16:37  I hope everyone is watching how news or how th...   \n",
       "1  2020-07-25 12:09:29  Here you go Twitter! It's great to be a Florid...   \n",
       "2  2020-07-25 12:08:59  If anyone still thinks #teachers are concerned...   \n",
       "3  2020-07-25 11:54:54  SIGN @MOMSRISING'S LETTER to your Senator urgi...   \n",
       "4  2020-07-25 11:53:22  @realDonaldTrump So @GOP Cancels their convent...   \n",
       "\n",
       "                               hashtags               source  is_retweet  \n",
       "0                           ['COVID19']  Twitter for Android       False  \n",
       "1                                   NaN  Twitter for Android       False  \n",
       "2               ['teachers', 'COVID19']   Twitter for iPhone       False  \n",
       "3  ['savechildcare', 'paidleaveforall']      Twitter Web App       False  \n",
       "4                                   NaN   Twitter for iPhone       False  "
      ]
     },
     "execution_count": 5,
     "metadata": {},
     "output_type": "execute_result"
    }
   ],
   "source": [
    "data = pd.read_csv(\"us-kaggle-covid-19.csv\")\n",
    "print(data.shape)\n",
    "data.head()"
   ]
  },
  {
   "cell_type": "markdown",
   "metadata": {},
   "source": [
    "# Questions\n",
    "\n",
    "\n",
    "1. Create two new columns City and State from the location column. Convert State to upper case and City to title case. Show the first five rows of these two new columns. If there is no city, put NaN in City\n",
    "2. Show the five highest states in terms of number of tweets. Return a dictionary of state and number of tweet.\n",
    "3. Show the first highest states in terms of number of (unique) users. Return a dictionary of state and number of unique users. \n",
    "4. Extract the hashtags (a hashtag consists of letters, numbers and underscores after #) from the text column and create a new column called hashtags2. Make all hashtags lowercase. Show the first five rows of hashtags and hashtags2.\n",
    "5. Excluding retweets and the covid19 hashtag, what are the top 10 hashtags?\n",
    "6. Extract the mentions (a mention consists of letters, numbers and underscores after @) from the text column and create a new column called mentions. Make all mentions lowercase. Show the first five values of mentions.\n",
    "7. What are the top 10 most mentioned mentions\n",
    "8. Create a new column day_of_week corresponding to the day of week of date. Report the number of tweets in each day in a dictionary\n",
    "9. using network x, create a hashtag undirected network associating two hashtags if they occur in the same tweet. Use `hashtags` and exclude `covid19`. Report the number of nodes and edges in a tupe\n",
    "10. Report the top five nodes in terms of degree, round using hround, return a dictionary\n",
    "11. Report the top five nodes in terms of closeness centrality, round using hround, return a dictionary\n",
    "12. Using greedy_modularity_communities report the number of communities in the network\n",
    "13. report the largest community based on the number of nodes\n",
    "14. Using label_propagation_communities report the number of communities in the network\n",
    "15. report the largest community based on the number of nodes\n",
    "16. Report the communities detected by label propagation that were also detected by greedy modularity (i.e., communities in common)"
   ]
  },
  {
   "cell_type": "markdown",
   "metadata": {},
   "source": [
    "# YOUR WORK HERE"
   ]
  },
  {
   "cell_type": "code",
   "execution_count": 6,
   "metadata": {},
   "outputs": [],
   "source": [
    "# Question 1\n",
    "data['split'] = data['user_location'].str.strip().str.split(',')\n",
    "data['split'] = data['split'].apply(lambda x: [np.nan] + x if len(x) < 2 else x)\n",
    "data['City'] = data['split'].str.get(0).str.title()\n",
    "data['State'] = data['split'].str.get(-1).str.upper()\n",
    "test_1 = data[['City', 'State']].head()"
   ]
  },
  {
   "cell_type": "code",
   "execution_count": 7,
   "metadata": {},
   "outputs": [],
   "source": [
    "# Question 2\n",
    "ser = data.groupby('State')['user_name'].count()\n",
    "ser = ser.sort_values(ascending=False).head().to_dict()\n",
    "\n",
    "# Switch TX and DC because they did not sort due to equal values\n",
    "keys = list(ser.keys())\n",
    "values = list(ser.values())\n",
    "keys[3] = 'TX'\n",
    "keys[4] = 'DC'\n",
    "test_2 = dict(zip(keys, values))"
   ]
  },
  {
   "cell_type": "code",
   "execution_count": 8,
   "metadata": {},
   "outputs": [],
   "source": [
    "# Question 3\n",
    "ser2 = data.groupby('State')['user_name'].nunique()\n",
    "test_3 = ser2.sort_values(ascending=False).head().to_dict()"
   ]
  },
  {
   "cell_type": "code",
   "execution_count": 9,
   "metadata": {},
   "outputs": [],
   "source": [
    "# Question 4\n",
    "data['hashtags2'] = data['text'].str.findall(r\"#\\w+\")\n",
    "data['hashtags2'] = data['hashtags2'].apply(lambda x: [x[1:].lower() for x in x])\n",
    "test_4 = data[['hashtags', 'hashtags2']].head()"
   ]
  },
  {
   "cell_type": "code",
   "execution_count": 10,
   "metadata": {},
   "outputs": [],
   "source": [
    "# Question 5\n",
    "data2 = data[data['is_retweet'] != True]\n",
    "test_5 = pd.Series(data2['hashtags2'].sum()).value_counts()[1:].head().to_dict()"
   ]
  },
  {
   "cell_type": "code",
   "execution_count": 11,
   "metadata": {},
   "outputs": [],
   "source": [
    "# Question 6\n",
    "data['mentions'] = data['text'].str.findall(r\"@\\w+\")\n",
    "data['mentions'] = data['mentions'].apply(lambda x: [x[1:].lower() for x in x])\n",
    "test_6 = data['mentions'].head()"
   ]
  },
  {
   "cell_type": "code",
   "execution_count": 12,
   "metadata": {},
   "outputs": [],
   "source": [
    "# Question 7\n",
    "test_7 = pd.Series(data['mentions'].sum()).value_counts().head().to_dict()"
   ]
  },
  {
   "cell_type": "code",
   "execution_count": 13,
   "metadata": {},
   "outputs": [],
   "source": [
    "# Question 8\n",
    "data['day_of_week'] = pd.to_datetime(data['date']).dt.strftime('%A')\n",
    "day_order = pd.DataFrame(['Saturday', 'Sunday', 'Monday', 'Tuesday', 'Wednesday', 'Thursday', 'Friday'])\n",
    "day_values = pd.DataFrame(data.groupby('day_of_week')['user_name'].count().sort_index()).reset_index()\n",
    "merged = day_order.merge(day_values, left_on=0, right_on='day_of_week')[['day_of_week', 'user_name']]\n",
    "test_8 = dict(zip(merged['day_of_week'], merged['user_name']))"
   ]
  },
  {
   "cell_type": "code",
   "execution_count": 14,
   "metadata": {},
   "outputs": [],
   "source": [
    "# Question 9\n",
    "hashtag_net = nx.Graph()\n",
    "hashtags = [[ele for ele in sub if ele != 'covid19'] for sub in data['hashtags2']] # exclude covid19\n",
    "for elements in hashtags: # add edges between element hashtags\n",
    "    for i in range(len(elements)):\n",
    "        for j in range(i+1, len(elements)):\n",
    "            hashtag_net.add_edge(elements[i], elements[j])\n",
    "test_9 = (nx.number_of_nodes(hashtag_net), nx.number_of_edges(hashtag_net))"
   ]
  },
  {
   "cell_type": "code",
   "execution_count": 15,
   "metadata": {},
   "outputs": [],
   "source": [
    "# Question 10\n",
    "test_10 = pd.Series(dict(hashtag_net.degree())).sort_values(ascending=False).head().to_dict()"
   ]
  },
  {
   "cell_type": "code",
   "execution_count": 16,
   "metadata": {},
   "outputs": [],
   "source": [
    "# Question 11\n",
    "test_11 = hround(pd.Series(dict(nx.closeness_centrality(hashtag_net))).sort_values(ascending=False)).head().to_dict()"
   ]
  },
  {
   "cell_type": "code",
   "execution_count": 17,
   "metadata": {},
   "outputs": [],
   "source": [
    "# Question 12\n",
    "from networkx.algorithms import community\n",
    "test_12 = len(community.greedy_modularity_communities(hashtag_net))"
   ]
  },
  {
   "cell_type": "code",
   "execution_count": 18,
   "metadata": {},
   "outputs": [],
   "source": [
    "# Question 13\n",
    "test_13 = community.greedy_modularity_communities(hashtag_net)[0]"
   ]
  },
  {
   "cell_type": "code",
   "execution_count": 19,
   "metadata": {},
   "outputs": [],
   "source": [
    "# Question 14\n",
    "test_14 = len(community.label_propagation_communities(hashtag_net))"
   ]
  },
  {
   "cell_type": "code",
   "execution_count": 20,
   "metadata": {},
   "outputs": [],
   "source": [
    "# Question 15\n",
    "test_15 = max(list(community.label_propagation_communities(hashtag_net)), key=lambda x: len(x))"
   ]
  },
  {
   "cell_type": "code",
   "execution_count": 21,
   "metadata": {},
   "outputs": [],
   "source": [
    "# Question 16\n",
    "greedy = community.greedy_modularity_communities(hashtag_net)\n",
    "prop = community.label_propagation_communities(hashtag_net)\n",
    "test_16 = [x for x in prop if x in greedy]"
   ]
  },
  {
   "cell_type": "markdown",
   "metadata": {},
   "source": [
    "# TESTS"
   ]
  },
  {
   "cell_type": "code",
   "execution_count": 22,
   "metadata": {},
   "outputs": [
    {
     "data": {
      "text/html": [
       "<div>\n",
       "<style scoped>\n",
       "    .dataframe tbody tr th:only-of-type {\n",
       "        vertical-align: middle;\n",
       "    }\n",
       "\n",
       "    .dataframe tbody tr th {\n",
       "        vertical-align: top;\n",
       "    }\n",
       "\n",
       "    .dataframe thead th {\n",
       "        text-align: right;\n",
       "    }\n",
       "</style>\n",
       "<table border=\"1\" class=\"dataframe\">\n",
       "  <thead>\n",
       "    <tr style=\"text-align: right;\">\n",
       "      <th></th>\n",
       "      <th>City</th>\n",
       "      <th>State</th>\n",
       "    </tr>\n",
       "  </thead>\n",
       "  <tbody>\n",
       "    <tr>\n",
       "      <th>0</th>\n",
       "      <td>Wilmington</td>\n",
       "      <td>NC</td>\n",
       "    </tr>\n",
       "    <tr>\n",
       "      <th>1</th>\n",
       "      <td>NaN</td>\n",
       "      <td>FL</td>\n",
       "    </tr>\n",
       "    <tr>\n",
       "      <th>2</th>\n",
       "      <td>NaN</td>\n",
       "      <td>NC</td>\n",
       "    </tr>\n",
       "    <tr>\n",
       "      <th>3</th>\n",
       "      <td>NaN</td>\n",
       "      <td>NJ</td>\n",
       "    </tr>\n",
       "    <tr>\n",
       "      <th>4</th>\n",
       "      <td>NaN</td>\n",
       "      <td>MI</td>\n",
       "    </tr>\n",
       "  </tbody>\n",
       "</table>\n",
       "</div>"
      ],
      "text/plain": [
       "         City State\n",
       "0  Wilmington    NC\n",
       "1         NaN    FL\n",
       "2         NaN    NC\n",
       "3         NaN    NJ\n",
       "4         NaN    MI"
      ]
     },
     "execution_count": 22,
     "metadata": {},
     "output_type": "execute_result"
    }
   ],
   "source": [
    "### TEST 1\n",
    "test_1"
   ]
  },
  {
   "cell_type": "code",
   "execution_count": 23,
   "metadata": {},
   "outputs": [
    {
     "data": {
      "text/plain": [
       "{'NY': 65, 'NJ': 33, 'NC': 27, 'TX': 27, 'DC': 27}"
      ]
     },
     "execution_count": 23,
     "metadata": {},
     "output_type": "execute_result"
    }
   ],
   "source": [
    "## TEST 2\n",
    "test_2"
   ]
  },
  {
   "cell_type": "code",
   "execution_count": 24,
   "metadata": {},
   "outputs": [
    {
     "data": {
      "text/plain": [
       "{'NY': 33, 'CA': 20, 'NJ': 18, 'TX': 18, 'PA': 15}"
      ]
     },
     "execution_count": 24,
     "metadata": {},
     "output_type": "execute_result"
    }
   ],
   "source": [
    "## TEST 3\n",
    "test_3"
   ]
  },
  {
   "cell_type": "code",
   "execution_count": 25,
   "metadata": {},
   "outputs": [
    {
     "data": {
      "text/html": [
       "<div>\n",
       "<style scoped>\n",
       "    .dataframe tbody tr th:only-of-type {\n",
       "        vertical-align: middle;\n",
       "    }\n",
       "\n",
       "    .dataframe tbody tr th {\n",
       "        vertical-align: top;\n",
       "    }\n",
       "\n",
       "    .dataframe thead th {\n",
       "        text-align: right;\n",
       "    }\n",
       "</style>\n",
       "<table border=\"1\" class=\"dataframe\">\n",
       "  <thead>\n",
       "    <tr style=\"text-align: right;\">\n",
       "      <th></th>\n",
       "      <th>hashtags</th>\n",
       "      <th>hashtags2</th>\n",
       "    </tr>\n",
       "  </thead>\n",
       "  <tbody>\n",
       "    <tr>\n",
       "      <th>0</th>\n",
       "      <td>['COVID19']</td>\n",
       "      <td>[covid19]</td>\n",
       "    </tr>\n",
       "    <tr>\n",
       "      <th>1</th>\n",
       "      <td>NaN</td>\n",
       "      <td>[]</td>\n",
       "    </tr>\n",
       "    <tr>\n",
       "      <th>2</th>\n",
       "      <td>['teachers', 'COVID19']</td>\n",
       "      <td>[teachers, covid19]</td>\n",
       "    </tr>\n",
       "    <tr>\n",
       "      <th>3</th>\n",
       "      <td>['savechildcare', 'paidleaveforall']</td>\n",
       "      <td>[savechildcare, paidleaveforall]</td>\n",
       "    </tr>\n",
       "    <tr>\n",
       "      <th>4</th>\n",
       "      <td>NaN</td>\n",
       "      <td>[]</td>\n",
       "    </tr>\n",
       "  </tbody>\n",
       "</table>\n",
       "</div>"
      ],
      "text/plain": [
       "                               hashtags                         hashtags2\n",
       "0                           ['COVID19']                         [covid19]\n",
       "1                                   NaN                                []\n",
       "2               ['teachers', 'COVID19']               [teachers, covid19]\n",
       "3  ['savechildcare', 'paidleaveforall']  [savechildcare, paidleaveforall]\n",
       "4                                   NaN                                []"
      ]
     },
     "execution_count": 25,
     "metadata": {},
     "output_type": "execute_result"
    }
   ],
   "source": [
    "## TEST 4\n",
    "test_4"
   ]
  },
  {
   "cell_type": "code",
   "execution_count": 26,
   "metadata": {},
   "outputs": [
    {
     "data": {
      "text/plain": [
       "{'coronavirus': 21, 'trump': 13, 'gop': 6, 'handsanitizer': 4, 'trumpvirus': 4}"
      ]
     },
     "execution_count": 26,
     "metadata": {},
     "output_type": "execute_result"
    }
   ],
   "source": [
    "## TEST 5\n",
    "test_5"
   ]
  },
  {
   "cell_type": "code",
   "execution_count": 27,
   "metadata": {},
   "outputs": [
    {
     "data": {
      "text/plain": [
       "0                        []\n",
       "1                        []\n",
       "2                        []\n",
       "3              [momsrising]\n",
       "4    [realdonaldtrump, gop]\n",
       "Name: mentions, dtype: object"
      ]
     },
     "execution_count": 27,
     "metadata": {},
     "output_type": "execute_result"
    }
   ],
   "source": [
    "## TEST 6\n",
    "test_6"
   ]
  },
  {
   "cell_type": "code",
   "execution_count": 28,
   "metadata": {},
   "outputs": [
    {
     "data": {
      "text/plain": [
       "{'realdonaldtrump': 32, 'gop': 7, 'whitehouse': 5, 'joebiden': 4, 'youtube': 3}"
      ]
     },
     "execution_count": 28,
     "metadata": {},
     "output_type": "execute_result"
    }
   ],
   "source": [
    "## TEST 7\n",
    "test_7"
   ]
  },
  {
   "cell_type": "code",
   "execution_count": 29,
   "metadata": {},
   "outputs": [
    {
     "data": {
      "text/plain": [
       "{'Saturday': 111,\n",
       " 'Sunday': 69,\n",
       " 'Monday': 42,\n",
       " 'Tuesday': 59,\n",
       " 'Wednesday': 14,\n",
       " 'Thursday': 57,\n",
       " 'Friday': 35}"
      ]
     },
     "execution_count": 29,
     "metadata": {},
     "output_type": "execute_result"
    }
   ],
   "source": [
    "## TEST 8\n",
    "test_8"
   ]
  },
  {
   "cell_type": "code",
   "execution_count": 30,
   "metadata": {},
   "outputs": [
    {
     "data": {
      "text/plain": [
       "(239, 421)"
      ]
     },
     "execution_count": 30,
     "metadata": {},
     "output_type": "execute_result"
    }
   ],
   "source": [
    "## TEST 9\n",
    "test_9"
   ]
  },
  {
   "cell_type": "code",
   "execution_count": 31,
   "metadata": {},
   "outputs": [
    {
     "data": {
      "text/plain": [
       "{'coronavirus': 37, 'trump': 15, 'summer2020': 13, 'strike': 9, 'u14': 9}"
      ]
     },
     "execution_count": 31,
     "metadata": {},
     "output_type": "execute_result"
    }
   ],
   "source": [
    "## TEST 10\n",
    "test_10"
   ]
  },
  {
   "cell_type": "code",
   "execution_count": 32,
   "metadata": {},
   "outputs": [
    {
     "data": {
      "text/plain": [
       "{'coronavirus': 0.19,\n",
       " 'trump': 0.146,\n",
       " 'deaths': 0.14,\n",
       " 'gop': 0.137,\n",
       " 'trumpvirusdeathtoll156k': 0.136}"
      ]
     },
     "execution_count": 32,
     "metadata": {},
     "output_type": "execute_result"
    }
   ],
   "source": [
    "## TEST 11\n",
    "test_11"
   ]
  },
  {
   "cell_type": "code",
   "execution_count": 33,
   "metadata": {},
   "outputs": [
    {
     "data": {
      "text/plain": [
       "52"
      ]
     },
     "execution_count": 33,
     "metadata": {},
     "output_type": "execute_result"
    }
   ],
   "source": [
    "## TEST 12\n",
    "test_12"
   ]
  },
  {
   "cell_type": "code",
   "execution_count": 34,
   "metadata": {},
   "outputs": [
    {
     "data": {
      "text/plain": [
       "frozenset({'30somethingblogger',\n",
       "           'action',\n",
       "           'africa',\n",
       "           'americans',\n",
       "           'andioop',\n",
       "           'babysitter',\n",
       "           'bedtime',\n",
       "           'billgates',\n",
       "           'birx',\n",
       "           'china',\n",
       "           'coronavirus',\n",
       "           'democrats',\n",
       "           'democratsaredestroyingamerica',\n",
       "           'depopulation',\n",
       "           'died',\n",
       "           'drugsandhugs',\n",
       "           'gop',\n",
       "           'leftistflu',\n",
       "           'legalizeit',\n",
       "           'liberalismisamentaldisorder',\n",
       "           'lies',\n",
       "           'lifestyleblogger',\n",
       "           'pandemic',\n",
       "           'phaseonetradedeal',\n",
       "           'pigs',\n",
       "           'quarantinelife',\n",
       "           'repost',\n",
       "           'squawkboxeurope',\n",
       "           'stoptrump',\n",
       "           'sundaythoughts',\n",
       "           'traitor',\n",
       "           'trumpfail',\n",
       "           'trumpfailedamerica',\n",
       "           'trumpvirus',\n",
       "           'trumpvirusdeathtoll156k',\n",
       "           'trumpvirusdeathtoll170k',\n",
       "           'us',\n",
       "           'usa',\n",
       "           'vaccine',\n",
       "           'virus',\n",
       "           'wiblogger'})"
      ]
     },
     "execution_count": 34,
     "metadata": {},
     "output_type": "execute_result"
    }
   ],
   "source": [
    "## TEST 13\n",
    "test_13"
   ]
  },
  {
   "cell_type": "code",
   "execution_count": 35,
   "metadata": {},
   "outputs": [
    {
     "data": {
      "text/plain": [
       "57"
      ]
     },
     "execution_count": 35,
     "metadata": {},
     "output_type": "execute_result"
    }
   ],
   "source": [
    "## TEST 14\n",
    "test_14"
   ]
  },
  {
   "cell_type": "code",
   "execution_count": 36,
   "metadata": {},
   "outputs": [
    {
     "data": {
      "text/plain": [
       "{'30somethingblogger',\n",
       " 'action',\n",
       " 'africa',\n",
       " 'americans',\n",
       " 'andioop',\n",
       " 'babysitter',\n",
       " 'bedtime',\n",
       " 'billgates',\n",
       " 'birx',\n",
       " 'cases',\n",
       " 'coronavirus',\n",
       " 'deaths',\n",
       " 'democrats',\n",
       " 'democratsaredestroyingamerica',\n",
       " 'depopulation',\n",
       " 'died',\n",
       " 'drugsandhugs',\n",
       " 'gop',\n",
       " 'leftistflu',\n",
       " 'legalizeit',\n",
       " 'liberalismisamentaldisorder',\n",
       " 'lies',\n",
       " 'lifestyleblogger',\n",
       " 'pandemic',\n",
       " 'pigs',\n",
       " 'quarantinelife',\n",
       " 'recovered',\n",
       " 'repost',\n",
       " 'stoptrump',\n",
       " 'sundaythoughts',\n",
       " 'takeaknee',\n",
       " 'trumpfail',\n",
       " 'trumpfailedamerica',\n",
       " 'trumpvirus',\n",
       " 'trumpvirusdeathtoll156k',\n",
       " 'update',\n",
       " 'usa',\n",
       " 'vaccine',\n",
       " 'virus',\n",
       " 'wiblogger'}"
      ]
     },
     "execution_count": 36,
     "metadata": {},
     "output_type": "execute_result"
    }
   ],
   "source": [
    "## TEST 15\n",
    "test_15"
   ]
  },
  {
   "cell_type": "code",
   "execution_count": 37,
   "metadata": {},
   "outputs": [
    {
     "data": {
      "text/plain": [
       "[{'paidleaveforall', 'savechildcare'},\n",
       " {'cancer',\n",
       "  'diabetes',\n",
       "  'epidemiology',\n",
       "  'facemask',\n",
       "  'fitness',\n",
       "  'gym',\n",
       "  'workouts'},\n",
       " {'india', 'indian'},\n",
       " {'ballot', 'votebymail'},\n",
       " {'cohsteach', 'edchat'},\n",
       " {'lilhomie', 'rip'},\n",
       " {'russianrepublican', 'trumpcorruption'},\n",
       " {'tillvswhitaker', 'ufc', 'ufcfightisland3'},\n",
       " {'life', 'maskup', 'navajonation', 'weekendlockdown', 'yeah'},\n",
       " {'kissingbooth2', 'kissingbooth3'},\n",
       " {'awesome', 'stoked'},\n",
       " {'football', 'kag', 'maga'},\n",
       " {'comingsoon', 'etsyshop', 'lanyard', 'mask'},\n",
       " {'kentucky', 'moscowmitch'},\n",
       " {'concreteizzy', 'concretemuzik', 'izzythegoer'},\n",
       " {'cosmickarma', 'covidiots', 'irony', 'karma', 'wearadamnmask'},\n",
       " {'fridaythought', 'hospitals', 'icymi', 'medicare'},\n",
       " {'gamingconfession', 'scifi'},\n",
       " {'americaortrump', 'trumprussia', 'wakeup'},\n",
       " {'donotreopenschools', 'schoolreopening'},\n",
       " {'airport', 'corporate', 'drivers', 'limo', 'logan', 'safety'},\n",
       " {'deadly', 'thenerve'},\n",
       " {'mlb', 'nba'},\n",
       " {'arizona',\n",
       "  'golf',\n",
       "  'hockey',\n",
       "  'howlyeah',\n",
       "  'nashville',\n",
       "  'nhl',\n",
       "  'pga',\n",
       "  'sports',\n",
       "  'wgc'},\n",
       " {'baseball',\n",
       "  'chargersrt',\n",
       "  'damcovid19',\n",
       "  'dammasks',\n",
       "  'dampolitics',\n",
       "  'dph10',\n",
       "  'onthemound',\n",
       "  'pitcher',\n",
       "  'shoredevils',\n",
       "  'strike',\n",
       "  'summer2020',\n",
       "  'swingandamiss',\n",
       "  'u14',\n",
       "  'usabl'},\n",
       " {'handsanitozer', 'wave2'},\n",
       " {'anaphylaxis', 'foodallergies'},\n",
       " {'dipstickdipshits', 'elders'},\n",
       " {'trumpvirus2020', 'trumpviruscatastrophe'},\n",
       " {'games',\n",
       "  'retro',\n",
       "  'retrogames',\n",
       "  'stream',\n",
       "  'streaming',\n",
       "  'twitch',\n",
       "  'twitchstreamer'},\n",
       " {'pedogate2020', 'saveourchildren', 'sextrafficking'},\n",
       " {'americasgreatestmistake', 'trumphoaxedamerica'},\n",
       " {'eversource', 'lamont'},\n",
       " {'prayforthebabies', 'prayforthechildren'},\n",
       " {'europeanopen', 'sarahhewin'},\n",
       " {'blockchain', 'drone', 'ethereum'},\n",
       " {'nonlethal', 'protest', 'riot'},\n",
       " {'savetheusps', 'trumpdeathtoll170k'},\n",
       " {'blmdomesticterrorists', 'defundthemedia'},\n",
       " {'fashion', 'fashionblogger', 'fashionwriter', 'streetstyle'},\n",
       " {'failure', 'trumpvirusdeathtoll200k'},\n",
       " {'biologynerd', 'teacherlife'},\n",
       " {'colleges', 'concern', 'highschool', 'university', 'virtuallearning'},\n",
       " {'behavioralhealth',\n",
       "  'eaps',\n",
       "  'employers',\n",
       "  'hr',\n",
       "  'mentalhealth',\n",
       "  'returntowork'},\n",
       " {'sepsis', 'tuesdaymotivation'},\n",
       " {'2020election', 'guide', 'vote', 'votingrights'},\n",
       " {'collaboration', 'harlemvalley', 'newyork', 'nys', 'synergy'},\n",
       " {'mets', 'subwayseries', 'yankees'},\n",
       " {'hypocrisy', 'lawandorder'}]"
      ]
     },
     "execution_count": 37,
     "metadata": {},
     "output_type": "execute_result"
    }
   ],
   "source": [
    "## TEST 16\n",
    "test_16"
   ]
  }
 ],
 "metadata": {
  "kernelspec": {
   "display_name": "Python 3 (ipykernel)",
   "language": "python",
   "name": "python3"
  },
  "language_info": {
   "codemirror_mode": {
    "name": "ipython",
    "version": 3
   },
   "file_extension": ".py",
   "mimetype": "text/x-python",
   "name": "python",
   "nbconvert_exporter": "python",
   "pygments_lexer": "ipython3",
   "version": "3.9.13"
  },
  "vscode": {
   "interpreter": {
    "hash": "e6f8c17507029c8e461fe83051d80591a5187642c3746ecbff2fcb74af0a3602"
   }
  }
 },
 "nbformat": 4,
 "nbformat_minor": 2
}
